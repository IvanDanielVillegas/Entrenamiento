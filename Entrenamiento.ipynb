{
 "cells": [
  {
   "cell_type": "markdown",
   "metadata": {},
   "source": [
    "### CARGAR DATOS"
   ]
  },
  {
   "cell_type": "code",
   "execution_count": 10,
   "metadata": {},
   "outputs": [],
   "source": [
    "#Extraer archivos de datos .ZIP\n",
    "import zipfile as zf\n",
    "\n",
    "ArchivoZIP = \"Paciente_ID_cristian.zip\"\n",
    "ArchivoDES = 'Datos/'\n",
    "files = zf.ZipFile(ArchivoZIP, 'r')\n",
    "files.extractall(ArchivoDES)\n",
    "files.close()"
   ]
  },
  {
   "cell_type": "code",
   "execution_count": 11,
   "metadata": {},
   "outputs": [],
   "source": [
    "!rm -rf Entrenamiento"
   ]
  },
  {
   "cell_type": "code",
   "execution_count": 12,
   "metadata": {},
   "outputs": [],
   "source": [
    "import pandas as pd\n",
    "import seaborn as sns\n",
    "import numpy as np\n",
    "import matplotlib.pyplot as plt"
   ]
  },
  {
   "cell_type": "code",
   "execution_count": 13,
   "metadata": {},
   "outputs": [
    {
     "name": "stdout",
     "output_type": "stream",
     "text": [
      "Paciente_ID_cristian\n",
      "/home/ivandanielvillegas/work/home/Entrenamiento\n"
     ]
    }
   ],
   "source": [
    "!ls 'Datos/'\n",
    "!pwd"
   ]
  },
  {
   "cell_type": "code",
   "execution_count": 14,
   "metadata": {},
   "outputs": [
    {
     "data": {
      "text/plain": [
       "['/home/ivandanielvillegas/work/home/Entrenamiento/Datos/Paciente_ID_cristian/']"
      ]
     },
     "execution_count": 14,
     "metadata": {},
     "output_type": "execute_result"
    }
   ],
   "source": [
    "from glob import glob\n",
    "my_dirs2 = glob(\"/home/ivandanielvillegas/work/home/Entrenamiento/Datos/*/\")\n",
    "my_dirs2.sort()\n",
    "my_dirs2"
   ]
  },
  {
   "cell_type": "code",
   "execution_count": 15,
   "metadata": {},
   "outputs": [],
   "source": [
    "# OZ, OD, Cejas, Mandibula, nada \n",
    "dict_gestos = ['Gesto_1','Gesto_2','Gesto_3','Gesto_4','Gesto_5'] \n"
   ]
  },
  {
   "cell_type": "code",
   "execution_count": 16,
   "metadata": {},
   "outputs": [
    {
     "name": "stdout",
     "output_type": "stream",
     "text": [
      "['datos_1.csv', 'datos_2.csv', 'datos_3.csv', 'datos_4.csv', 'datos_5.csv', 'datos_6.csv', 'datos_7.csv', 'datos_8.csv', 'datos_9.csv', 'datos_10.csv', 'datos_11.csv', 'datos_12.csv', 'datos_13.csv', 'datos_14.csv', 'datos_15.csv', 'datos_16.csv', 'datos_17.csv', 'datos_18.csv', 'datos_19.csv', 'datos_20.csv']\n"
     ]
    }
   ],
   "source": [
    "# dict_datos = ['datos_1.csv','datos_2.csv','datos_3.csv','datos_4.csv','datos_5.csv','datos_6.csv', 'datos_7.csv', 'datos_8.csv', 'datos_9.csv', 'datos_10.csv']\n",
    "dict_datos = glob(\"/home/ivandanielvillegas/work/home/Entrenamiento/Datos/Paciente_ID_cristian/Gesto_1/Datos_CSV_ULTRACORTEX/*\")\n",
    "dict_datos.sort()\n",
    "dict_datos\n",
    "datos = []\n",
    "for i in range(len(dict_datos)):\n",
    "    datos.append(f'datos_{i+1}.csv')\n",
    "print(datos)"
   ]
  },
  {
   "cell_type": "code",
   "execution_count": 17,
   "metadata": {},
   "outputs": [],
   "source": [
    "def Verificar_datos(my_dirs2, dict_gestos, datos):\n",
    "    shapes=[]\n",
    "#     for i in range(len(my_dirs2)):\n",
    "    for j in range(len(dict_gestos)):\n",
    "            #print(my_dirs2[i]+dict_gestos[j])\n",
    "            for k in range(len(datos)):\n",
    "              #print(my_dirs2[i]+dict_gestos[j]+'/Datos_CSV_MYO/'+dict_datos[k])\n",
    "              df = pd.read_csv(my_dirs2[0]+dict_gestos[j]+'/Datos_CSV_ULTRACORTEX/'+datos[k],encoding='ISO-8859-1', skiprows = 2,sep=';')\n",
    "              shapes.append(df.shape)\n",
    "              #print(i,j,df.shape)\n",
    "    print(np.unique(shapes), len(shapes))\n",
    "    \n",
    "    from collections import Counter\n",
    "    counter=Counter(shapes)\n",
    "    print(counter)\n",
    "#     i = 9\n",
    "#     j = 4\n",
    "#     shapess = []\n",
    "#     for k in range(len(datos)):\n",
    "#         df = pd.read_csv(my_dirs2[i]+dict_gestos[j]+'/Datos_CSV_ULTRACORTEX/'+datos[k],encoding='ISO-8859-1', skiprows = 2,sep=';')\n",
    "#         shapess.append(df.shape)\n",
    "#         np.unique(shapess), len(shapess)\n",
    "#         from collections import Counter\n",
    "#         counter=Counter(shapess)\n",
    "#         print(counter)\n",
    "#         print(my_dirs2[i]+dict_gestos[j]+'/Datos_CSV_ULTRACORTEX/'+datos[k])"
   ]
  },
  {
   "cell_type": "code",
   "execution_count": 18,
   "metadata": {},
   "outputs": [
    {
     "name": "stdout",
     "output_type": "stream",
     "text": [
      "[ 17 622 625] 100\n",
      "Counter({(625, 17): 90, (622, 17): 10})\n",
      "/home/ivandanielvillegas/work/home/Entrenamiento/Datos/Paciente_ID_cristian/\n"
     ]
    }
   ],
   "source": [
    "\n",
    "Verificar_datos(my_dirs2, dict_gestos, datos[0:20])\n",
    "print(my_dirs2[0])"
   ]
  },
  {
   "cell_type": "code",
   "execution_count": 19,
   "metadata": {},
   "outputs": [],
   "source": [
    "features=[]\n",
    "# for i in range(len(my_dirs2)):\n",
    "for j in range(len(dict_gestos)):\n",
    "    #print(my_dirs2[i]+dict_gestos[j])\n",
    "    for k in range(len(datos)):\n",
    "      #print(my_dirs2[i]+dict_gestos[j]+'/Datos_CSV_MYO/'+dict_datos[k])\n",
    "      df = pd.read_csv(my_dirs2[0]+dict_gestos[j]+'/Datos_CSV_ULTRACORTEX/'+datos[k],encoding='ISO-8859-1', skiprows = 2,sep=';')\n",
    "      if (df.shape[0] != 625):\n",
    "            tamaño = df.shape[0]\n",
    "            for i in range(625-df.shape[0]):\n",
    "                df.loc[df.shape[0]+i+1] = df.values[tamaño-1-i]\n",
    "      features.append(df.iloc[90:517,0:16].values)\n",
    "      #features.append(df.iloc[0:-1,0:16].values)\n",
    "\n"
   ]
  },
  {
   "cell_type": "code",
   "execution_count": 20,
   "metadata": {},
   "outputs": [
    {
     "name": "stdout",
     "output_type": "stream",
     "text": [
      "1 100 (427, 16)\n",
      "2 100 (427, 16)\n",
      "3 100 (427, 16)\n",
      "4 100 (427, 16)\n",
      "5 100 (427, 16)\n",
      "6 100 (427, 16)\n",
      "7 100 (427, 16)\n",
      "8 100 (427, 16)\n",
      "9 100 (427, 16)\n",
      "10 100 (427, 16)\n",
      "11 100 (427, 16)\n",
      "12 100 (427, 16)\n",
      "13 100 (427, 16)\n",
      "14 100 (427, 16)\n",
      "15 100 (427, 16)\n",
      "16 100 (427, 16)\n",
      "17 100 (427, 16)\n",
      "18 100 (427, 16)\n",
      "19 100 (427, 16)\n",
      "20 100 (427, 16)\n",
      "21 100 (427, 16)\n",
      "22 100 (427, 16)\n",
      "23 100 (427, 16)\n",
      "24 100 (427, 16)\n",
      "25 100 (427, 16)\n",
      "26 100 (427, 16)\n",
      "27 100 (427, 16)\n",
      "28 100 (427, 16)\n",
      "29 100 (427, 16)\n",
      "30 100 (427, 16)\n",
      "31 100 (427, 16)\n",
      "32 100 (427, 16)\n",
      "33 100 (427, 16)\n",
      "34 100 (427, 16)\n",
      "35 100 (427, 16)\n",
      "36 100 (427, 16)\n",
      "37 100 (427, 16)\n",
      "38 100 (427, 16)\n",
      "39 100 (427, 16)\n",
      "40 100 (427, 16)\n",
      "41 100 (427, 16)\n",
      "42 100 (427, 16)\n",
      "43 100 (427, 16)\n",
      "44 100 (427, 16)\n",
      "45 100 (427, 16)\n",
      "46 100 (427, 16)\n",
      "47 100 (427, 16)\n",
      "48 100 (427, 16)\n",
      "49 100 (427, 16)\n",
      "50 100 (427, 16)\n",
      "51 100 (427, 16)\n",
      "52 100 (427, 16)\n",
      "53 100 (427, 16)\n",
      "54 100 (427, 16)\n",
      "55 100 (427, 16)\n",
      "56 100 (427, 16)\n",
      "57 100 (427, 16)\n",
      "58 100 (427, 16)\n",
      "59 100 (427, 16)\n",
      "60 100 (427, 16)\n",
      "61 100 (427, 16)\n",
      "62 100 (427, 16)\n",
      "63 100 (427, 16)\n",
      "64 100 (427, 16)\n",
      "65 100 (427, 16)\n",
      "66 100 (427, 16)\n",
      "67 100 (427, 16)\n",
      "68 100 (427, 16)\n",
      "69 100 (427, 16)\n",
      "70 100 (427, 16)\n",
      "71 100 (427, 16)\n",
      "72 100 (427, 16)\n",
      "73 100 (427, 16)\n",
      "74 100 (427, 16)\n",
      "75 100 (427, 16)\n",
      "76 100 (427, 16)\n",
      "77 100 (427, 16)\n",
      "78 100 (427, 16)\n",
      "79 100 (427, 16)\n",
      "80 100 (427, 16)\n",
      "81 100 (427, 16)\n",
      "82 100 (427, 16)\n",
      "83 100 (427, 16)\n",
      "84 100 (427, 16)\n",
      "85 100 (427, 16)\n",
      "86 100 (427, 16)\n",
      "87 100 (427, 16)\n",
      "88 100 (427, 16)\n",
      "89 100 (427, 16)\n",
      "90 100 (427, 16)\n",
      "91 100 (427, 16)\n",
      "92 100 (427, 16)\n",
      "93 100 (427, 16)\n",
      "94 100 (427, 16)\n",
      "95 100 (427, 16)\n",
      "96 100 (427, 16)\n",
      "97 100 (427, 16)\n",
      "98 100 (427, 16)\n",
      "99 100 (427, 16)\n",
      "100 100 (427, 16)\n"
     ]
    }
   ],
   "source": [
    "for i in range(100):    \n",
    "    len(features), features[i].shape\n",
    "    if (features[i].shape != (300,16)):\n",
    "        print(i+1,len(features), features[i].shape)"
   ]
  },
  {
   "cell_type": "code",
   "execution_count": 24,
   "metadata": {},
   "outputs": [],
   "source": [
    "from sklearn import preprocessing\n",
    "def Escalar(features_array):\n",
    "    New_scaled= []\n",
    "    for values in range(features_array.shape[0]):\n",
    "        X_scaled = preprocessing.scale(features_array[values])\n",
    "        New_scaled.append(X_scaled)\n",
    "    len(New_scaled) ,New_scaled[0].shape\n",
    "    New_scaled_array = np.array(New_scaled)\n",
    "    New_scaled_array.shape\n",
    "    return(New_scaled_array)\n",
    "\n",
    "def MinMax(features_array):\n",
    "    New_scaled= []\n",
    "    for values in range(features_array.shape[0]):\n",
    "        min_max_scaler = preprocessing.MinMaxScaler()\n",
    "        X_train_minmax = min_max_scaler.fit_transform(features_array[values])\n",
    "        New_scaled.append(X_train_minmax)\n",
    "    len(New_scaled) ,New_scaled[0].shape\n",
    "    New_scaled_array = np.array(New_scaled)\n",
    "    New_scaled_array.shape\n",
    "    return(New_scaled_array)\n",
    "\n",
    "def Normalizar(features_array):\n",
    "    New_scaled= []\n",
    "    for values in range(features_array.shape[0]):\n",
    "        X_normalized = preprocessing.normalize(features_array[values], norm='l2')\n",
    "        New_scaled.append(X_normalized)\n",
    "    len(New_scaled) ,New_scaled[0].shape\n",
    "    New_scaled_array = np.array(New_scaled)\n",
    "    New_scaled_array.shape\n",
    "    return(New_scaled_array)\n"
   ]
  },
  {
   "cell_type": "code",
   "execution_count": 25,
   "metadata": {},
   "outputs": [
    {
     "data": {
      "text/plain": [
       "(100, (427, 16))"
      ]
     },
     "execution_count": 25,
     "metadata": {},
     "output_type": "execute_result"
    }
   ],
   "source": [
    "len(features), features[0].shape"
   ]
  },
  {
   "cell_type": "code",
   "execution_count": 26,
   "metadata": {},
   "outputs": [
    {
     "data": {
      "image/png": "[encoded data removed]",
      "text/plain": [
       "<Figure size 432x288 with 1 Axes>"
      ]
     },
     "metadata": {
      "needs_background": "light"
     },
     "output_type": "display_data"
    }
   ],
   "source": [
    "features_array = np.array(features)\n",
    "features_array = Normalizar(features_array)\n",
    "features_array.shape\n",
    "plt.figure\n",
    "plt.plot(features_array[22,:,4])\n",
    "plt.show()"
   ]
  },
  {
   "cell_type": "code",
   "execution_count": 27,
   "metadata": {},
   "outputs": [
    {
     "data": {
      "text/plain": [
       "array([[-0.01484894, -0.2813939 ,  0.39299573, ...,  0.33880409,\n",
       "        -0.05999783,  0.0643441 ],\n",
       "       [-0.00903694, -0.14785844,  0.30368884, ...,  0.55462556,\n",
       "         0.08732622,  0.22531515],\n",
       "       [-0.0107022 , -0.05588855,  0.23135075, ...,  0.61245504,\n",
       "         0.13736052,  0.27662794],\n",
       "       ...,\n",
       "       [-0.11728413, -0.22455906, -0.29148702, ..., -0.63864971,\n",
       "        -0.10840402, -0.05878635],\n",
       "       [ 0.00918586, -0.04393068, -0.46361026, ..., -0.54403914,\n",
       "         0.0194212 ,  0.01703945],\n",
       "       [ 0.17111254,  0.16283156, -0.4949129 , ..., -0.25854072,\n",
       "         0.17509033,  0.11779145]])"
      ]
     },
     "execution_count": 27,
     "metadata": {},
     "output_type": "execute_result"
    }
   ],
   "source": [
    "features_array[10]"
   ]
  },
  {
   "cell_type": "markdown",
   "metadata": {},
   "source": [
    "### VECTOR DE ETIQUETAS"
   ]
  },
  {
   "cell_type": "code",
   "execution_count": 28,
   "metadata": {},
   "outputs": [
    {
     "data": {
      "text/plain": [
       "(1, 100)"
      ]
     },
     "execution_count": 28,
     "metadata": {},
     "output_type": "execute_result"
    }
   ],
   "source": [
    "#Haciendo nuestro vector de etiquetas\n",
    "long = len(dict_datos)\n",
    "labels = np.concatenate((np.zeros(long),np.ones(long),np.ones(long)*2,np.ones(long)*3,np.ones(long)*4),axis=0)\n",
    "labels\n",
    "\n",
    "def repeat(arr, count):\n",
    "    return np.stack([arr for _ in range(count)], axis=0)\n",
    "\n",
    "# labels = repeat(labels,len(my_dirs2)) # Cantidad de pacientes\n",
    "labels = repeat(labels,1)\n",
    "\n",
    "labels.shape\n"
   ]
  },
  {
   "cell_type": "code",
   "execution_count": 29,
   "metadata": {},
   "outputs": [
    {
     "data": {
      "text/plain": [
       "(array([0., 0., 0., 0., 0., 0., 0., 0., 0., 0., 0., 0., 0., 0., 0., 0., 0.,\n",
       "        0., 0., 0., 1., 1., 1., 1., 1., 1., 1., 1., 1., 1., 1., 1., 1., 1.,\n",
       "        1., 1., 1., 1., 1., 1., 2., 2., 2., 2., 2., 2., 2., 2., 2., 2., 2.,\n",
       "        2., 2., 2., 2., 2., 2., 2., 2., 2., 3., 3., 3., 3., 3., 3., 3., 3.,\n",
       "        3., 3., 3., 3., 3., 3., 3., 3., 3., 3., 3., 3., 4., 4., 4., 4., 4.,\n",
       "        4., 4., 4., 4., 4., 4., 4., 4., 4., 4., 4., 4., 4., 4., 4.]),\n",
       " (100,))"
      ]
     },
     "execution_count": 29,
     "metadata": {},
     "output_type": "execute_result"
    }
   ],
   "source": [
    "labels = np.reshape(labels,100)\n",
    "labels, labels.shape"
   ]
  },
  {
   "cell_type": "markdown",
   "metadata": {},
   "source": [
    "### AJUSTE DE TENSOR DE ENTRADA "
   ]
  },
  {
   "cell_type": "code",
   "execution_count": 30,
   "metadata": {},
   "outputs": [
    {
     "data": {
      "image/png": "[encoded data removed]",
      "text/plain": [
       "<Figure size 432x288 with 1 Axes>"
      ]
     },
     "metadata": {
      "needs_background": "light"
     },
     "output_type": "display_data"
    }
   ],
   "source": [
    "features_array.shape, np.sum(features_array[0:100,:,:])\n",
    "plt.figure\n",
    "plt.plot(features_array[5,:,2])\n",
    "plt.show()"
   ]
  },
  {
   "cell_type": "code",
   "execution_count": 31,
   "metadata": {},
   "outputs": [],
   "source": [
    "#features_array2 = np.reshape(features_array,(100,4800))\n",
    "#features_array2.shape, np.sum(features_array2[0:100,:])"
   ]
  },
  {
   "cell_type": "code",
   "execution_count": 32,
   "metadata": {},
   "outputs": [
    {
     "name": "stderr",
     "output_type": "stream",
     "text": [
      "Using TensorFlow backend.\n"
     ]
    }
   ],
   "source": [
    "import tensorflow as tf\n",
    "import tensorflow.keras as keras\n",
    "from tensorflow.keras import layers\n",
    "from keras.models import Model\n",
    "from keras.callbacks import ModelCheckpoint\n",
    "from keras.layers import Input, Dense\n",
    "from sklearn.model_selection import train_test_split\n",
    "from sklearn.metrics import confusion_matrix\n",
    "from sklearn import preprocessing\n",
    "from keras.models import model_from_json"
   ]
  },
  {
   "cell_type": "code",
   "execution_count": 33,
   "metadata": {},
   "outputs": [
    {
     "name": "stdout",
     "output_type": "stream",
     "text": [
      "(90, 427, 16)\n",
      "(90,)\n",
      "(10, 427, 16)\n",
      "[0. 0. 0. 3. 1. 4. 2. 0. 2. 1.]\n",
      "(75, 427, 16)\n",
      "(75,)\n",
      "(25, 427, 16)\n",
      "(25,)\n"
     ]
    }
   ],
   "source": [
    "#Xsplit = int(features_array2.shape[0] * 0.8) \n",
    "#X_train_split = features_array2[0:Xsplit,:]\n",
    "#X_test_split = features_array2[Xsplit:,:]\n",
    "#labels_train = labels[0:Xsplit]\n",
    "#labels_test = labels[Xsplit:]\n",
    "X_train,x_test,Y_train,y_test = train_test_split(features_array,labels,train_size=0.9)\n",
    "print(X_train.shape)\n",
    "print(Y_train.shape)\n",
    "print(x_test.shape)\n",
    "print(y_test)\n",
    "x_train,x_val,y_train,y_val = train_test_split(features_array,labels)\n",
    "print(x_train.shape)\n",
    "print(y_train.shape)\n",
    "print(x_val.shape)\n",
    "print(y_val.shape)"
   ]
  },
  {
   "cell_type": "code",
   "execution_count": 34,
   "metadata": {},
   "outputs": [],
   "source": [
    "#print(\"Label distribution: {}, total classes {}\".format(np.unique(labels_train), len(np.unique(labels_train))))"
   ]
  },
  {
   "cell_type": "code",
   "execution_count": 35,
   "metadata": {},
   "outputs": [
    {
     "name": "stdout",
     "output_type": "stream",
     "text": [
      "Model: \"model_sing\"\n",
      "_________________________________________________________________\n",
      "Layer (type)                 Output Shape              Param #   \n",
      "=================================================================\n",
      "input_1 (InputLayer)         [(None, 427, 16)]         0         \n",
      "_________________________________________________________________\n",
      "conv1d (Conv1D)              (None, 178, 16)           64016     \n",
      "_________________________________________________________________\n",
      "max_pooling1d (MaxPooling1D) (None, 89, 16)            0         \n",
      "_________________________________________________________________\n",
      "conv1d_1 (Conv1D)            (None, 10, 16)            20496     \n",
      "_________________________________________________________________\n",
      "max_pooling1d_1 (MaxPooling1 (None, 5, 16)             0         \n",
      "_________________________________________________________________\n",
      "flatten (Flatten)            (None, 80)                0         \n",
      "_________________________________________________________________\n",
      "dense (Dense)                (None, 256)               20736     \n",
      "_________________________________________________________________\n",
      "dropout (Dropout)            (None, 256)               0         \n",
      "_________________________________________________________________\n",
      "dense_1 (Dense)              (None, 5)                 1285      \n",
      "=================================================================\n",
      "Total params: 106,533\n",
      "Trainable params: 106,533\n",
      "Non-trainable params: 0\n",
      "_________________________________________________________________\n"
     ]
    }
   ],
   "source": [
    "input_shape = (427,16)\n",
    "inputs = keras.layers.Input(input_shape)\n",
    "x = keras.layers.Conv1D(16, 250, activation='relu',input_shape=input_shape)(inputs)\n",
    "x = keras.layers.MaxPool1D(pool_size=2, strides = 2, padding = 'same')(x)\n",
    "x = keras.layers.Conv1D(16, 80, activation='relu',input_shape=input_shape)(x)\n",
    "x = keras.layers.MaxPool1D(pool_size=2, strides = 2, padding = 'same')(x)\n",
    "x = keras.layers.Flatten()(x)\n",
    "x = keras.layers.Dense(256,activation = 'relu')(x)\n",
    "x = keras.layers.Dropout(0.2)(x)\n",
    "outputs = keras.layers.Dense(units=5, activation= 'softmax')(x)\n",
    "\n",
    "model = keras.Model(inputs = inputs, outputs=outputs, name ='model_sing')\n",
    "\n",
    "checkpoint = ModelCheckpoint('MejorPrueba_sin_Scaling.h5', \n",
    "                             monitor='val_loss',\n",
    "                             verbose=1,\n",
    "                             save_best_only= True,\n",
    "                             mode='auto')\n",
    "\n",
    "model.compile(optimizer = 'adam' , loss = 'sparse_categorical_crossentropy' , metrics = ['accuracy'])\n",
    "model.summary()\n"
   ]
  },
  {
   "cell_type": "code",
   "execution_count": 36,
   "metadata": {},
   "outputs": [
    {
     "name": "stdout",
     "output_type": "stream",
     "text": [
      "Train on 75 samples, validate on 25 samples\n",
      "Epoch 1/100\n",
      "32/75 [===========>..................] - ETA: 1s - loss: 1.5941 - accuracy: 0.2812\n",
      "Epoch 00001: val_loss improved from inf to 1.59325, saving model to MejorPrueba_sin_Scaling.h5\n",
      "75/75 [==============================] - 1s 14ms/sample - loss: 1.5989 - accuracy: 0.2800 - val_loss: 1.5933 - val_accuracy: 0.1200\n",
      "Epoch 2/100\n",
      "32/75 [===========>..................] - ETA: 0s - loss: 1.4321 - accuracy: 0.6250\n",
      "Epoch 00002: val_loss improved from 1.59325 to 1.57164, saving model to MejorPrueba_sin_Scaling.h5\n",
      "75/75 [==============================] - 0s 445us/sample - loss: 1.4198 - accuracy: 0.6000 - val_loss: 1.5716 - val_accuracy: 0.2000\n",
      "Epoch 3/100\n",
      "32/75 [===========>..................] - ETA: 0s - loss: 1.2355 - accuracy: 0.8438\n",
      "Epoch 00003: val_loss improved from 1.57164 to 1.55341, saving model to MejorPrueba_sin_Scaling.h5\n",
      "75/75 [==============================] - 0s 440us/sample - loss: 1.1938 - accuracy: 0.7733 - val_loss: 1.5534 - val_accuracy: 0.2800\n",
      "Epoch 4/100\n",
      "32/75 [===========>..................] - ETA: 0s - loss: 0.9455 - accuracy: 0.8750\n",
      "Epoch 00004: val_loss improved from 1.55341 to 1.49529, saving model to MejorPrueba_sin_Scaling.h5\n",
      "75/75 [==============================] - 0s 447us/sample - loss: 0.9092 - accuracy: 0.8400 - val_loss: 1.4953 - val_accuracy: 0.2800\n",
      "Epoch 5/100\n",
      "32/75 [===========>..................] - ETA: 0s - loss: 0.6655 - accuracy: 0.9375\n",
      "Epoch 00005: val_loss improved from 1.49529 to 1.43905, saving model to MejorPrueba_sin_Scaling.h5\n",
      "75/75 [==============================] - 0s 443us/sample - loss: 0.6489 - accuracy: 0.8933 - val_loss: 1.4390 - val_accuracy: 0.3200\n",
      "Epoch 6/100\n",
      "32/75 [===========>..................] - ETA: 0s - loss: 0.5464 - accuracy: 0.8438\n",
      "Epoch 00006: val_loss improved from 1.43905 to 1.30051, saving model to MejorPrueba_sin_Scaling.h5\n",
      "75/75 [==============================] - 0s 444us/sample - loss: 0.4538 - accuracy: 0.8667 - val_loss: 1.3005 - val_accuracy: 0.3600\n",
      "Epoch 7/100\n",
      "32/75 [===========>..................] - ETA: 0s - loss: 0.2674 - accuracy: 0.9688\n",
      "Epoch 00007: val_loss improved from 1.30051 to 1.21458, saving model to MejorPrueba_sin_Scaling.h5\n",
      "75/75 [==============================] - 0s 436us/sample - loss: 0.2545 - accuracy: 0.9600 - val_loss: 1.2146 - val_accuracy: 0.4000\n",
      "Epoch 8/100\n",
      "32/75 [===========>..................] - ETA: 0s - loss: 0.1323 - accuracy: 1.0000\n",
      "Epoch 00008: val_loss improved from 1.21458 to 1.10397, saving model to MejorPrueba_sin_Scaling.h5\n",
      "75/75 [==============================] - 0s 450us/sample - loss: 0.1215 - accuracy: 1.0000 - val_loss: 1.1040 - val_accuracy: 0.4800\n",
      "Epoch 9/100\n",
      "32/75 [===========>..................] - ETA: 0s - loss: 0.0970 - accuracy: 0.9688\n",
      "Epoch 00009: val_loss improved from 1.10397 to 1.02370, saving model to MejorPrueba_sin_Scaling.h5\n",
      "75/75 [==============================] - 0s 444us/sample - loss: 0.0700 - accuracy: 0.9867 - val_loss: 1.0237 - val_accuracy: 0.5200\n",
      "Epoch 10/100\n",
      "32/75 [===========>..................] - ETA: 0s - loss: 0.0503 - accuracy: 1.0000\n",
      "Epoch 00010: val_loss improved from 1.02370 to 0.95651, saving model to MejorPrueba_sin_Scaling.h5\n",
      "75/75 [==============================] - 0s 454us/sample - loss: 0.0321 - accuracy: 1.0000 - val_loss: 0.9565 - val_accuracy: 0.6000\n",
      "Epoch 11/100\n",
      "32/75 [===========>..................] - ETA: 0s - loss: 0.0221 - accuracy: 1.0000\n",
      "Epoch 00011: val_loss improved from 0.95651 to 0.95343, saving model to MejorPrueba_sin_Scaling.h5\n",
      "75/75 [==============================] - 0s 453us/sample - loss: 0.0156 - accuracy: 1.0000 - val_loss: 0.9534 - val_accuracy: 0.6800\n",
      "Epoch 12/100\n",
      "32/75 [===========>..................] - ETA: 0s - loss: 0.0058 - accuracy: 1.0000\n",
      "Epoch 00012: val_loss did not improve from 0.95343\n",
      "75/75 [==============================] - 0s 202us/sample - loss: 0.0071 - accuracy: 1.0000 - val_loss: 0.9714 - val_accuracy: 0.6800\n",
      "Epoch 13/100\n",
      "32/75 [===========>..................] - ETA: 0s - loss: 0.0073 - accuracy: 1.0000\n",
      "Epoch 00013: val_loss did not improve from 0.95343\n",
      "75/75 [==============================] - 0s 195us/sample - loss: 0.0065 - accuracy: 1.0000 - val_loss: 0.9608 - val_accuracy: 0.6800\n",
      "Epoch 14/100\n",
      "32/75 [===========>..................] - ETA: 0s - loss: 0.0049 - accuracy: 1.0000\n",
      "Epoch 00014: val_loss improved from 0.95343 to 0.95055, saving model to MejorPrueba_sin_Scaling.h5\n",
      "75/75 [==============================] - 0s 441us/sample - loss: 0.0060 - accuracy: 1.0000 - val_loss: 0.9506 - val_accuracy: 0.6800\n",
      "Epoch 15/100\n",
      "32/75 [===========>..................] - ETA: 0s - loss: 0.0015 - accuracy: 1.0000\n",
      "Epoch 00015: val_loss improved from 0.95055 to 0.94931, saving model to MejorPrueba_sin_Scaling.h5\n",
      "75/75 [==============================] - 0s 444us/sample - loss: 0.0014 - accuracy: 1.0000 - val_loss: 0.9493 - val_accuracy: 0.7200\n",
      "Epoch 16/100\n",
      "32/75 [===========>..................] - ETA: 0s - loss: 0.0014 - accuracy: 1.0000\n",
      "Epoch 00016: val_loss did not improve from 0.94931\n",
      "75/75 [==============================] - 0s 208us/sample - loss: 0.0016 - accuracy: 1.0000 - val_loss: 0.9531 - val_accuracy: 0.6800\n",
      "Epoch 17/100\n",
      "32/75 [===========>..................] - ETA: 0s - loss: 5.4746e-04 - accuracy: 1.0000\n",
      "Epoch 00017: val_loss improved from 0.94931 to 0.94087, saving model to MejorPrueba_sin_Scaling.h5\n",
      "75/75 [==============================] - 0s 440us/sample - loss: 0.0015 - accuracy: 1.0000 - val_loss: 0.9409 - val_accuracy: 0.6800\n",
      "Epoch 18/100\n",
      "32/75 [===========>..................] - ETA: 0s - loss: 5.7156e-04 - accuracy: 1.0000\n",
      "Epoch 00018: val_loss improved from 0.94087 to 0.92516, saving model to MejorPrueba_sin_Scaling.h5\n",
      "75/75 [==============================] - 0s 446us/sample - loss: 8.6783e-04 - accuracy: 1.0000 - val_loss: 0.9252 - val_accuracy: 0.6800\n",
      "Epoch 19/100\n",
      "32/75 [===========>..................] - ETA: 0s - loss: 6.1735e-04 - accuracy: 1.0000\n",
      "Epoch 00019: val_loss improved from 0.92516 to 0.90768, saving model to MejorPrueba_sin_Scaling.h5\n",
      "75/75 [==============================] - 0s 451us/sample - loss: 8.9375e-04 - accuracy: 1.0000 - val_loss: 0.9077 - val_accuracy: 0.6800\n",
      "Epoch 20/100\n",
      "32/75 [===========>..................] - ETA: 0s - loss: 0.0017 - accuracy: 1.0000\n",
      "Epoch 00020: val_loss improved from 0.90768 to 0.89277, saving model to MejorPrueba_sin_Scaling.h5\n",
      "75/75 [==============================] - 0s 439us/sample - loss: 0.0010 - accuracy: 1.0000 - val_loss: 0.8928 - val_accuracy: 0.6800\n",
      "Epoch 21/100\n",
      "32/75 [===========>..................] - ETA: 0s - loss: 2.9997e-04 - accuracy: 1.0000\n",
      "Epoch 00021: val_loss improved from 0.89277 to 0.88604, saving model to MejorPrueba_sin_Scaling.h5\n",
      "75/75 [==============================] - 0s 464us/sample - loss: 3.0278e-04 - accuracy: 1.0000 - val_loss: 0.8860 - val_accuracy: 0.6400\n",
      "Epoch 22/100\n",
      "32/75 [===========>..................] - ETA: 0s - loss: 6.1991e-04 - accuracy: 1.0000\n",
      "Epoch 00022: val_loss improved from 0.88604 to 0.88345, saving model to MejorPrueba_sin_Scaling.h5\n",
      "75/75 [==============================] - 0s 466us/sample - loss: 5.6565e-04 - accuracy: 1.0000 - val_loss: 0.8835 - val_accuracy: 0.6400\n",
      "Epoch 23/100\n",
      "32/75 [===========>..................] - ETA: 0s - loss: 3.6869e-04 - accuracy: 1.0000\n",
      "Epoch 00023: val_loss improved from 0.88345 to 0.88210, saving model to MejorPrueba_sin_Scaling.h5\n",
      "75/75 [==============================] - 0s 450us/sample - loss: 4.6869e-04 - accuracy: 1.0000 - val_loss: 0.8821 - val_accuracy: 0.6400\n",
      "Epoch 24/100\n",
      "32/75 [===========>..................] - ETA: 0s - loss: 6.9323e-04 - accuracy: 1.0000\n",
      "Epoch 00024: val_loss did not improve from 0.88210\n",
      "75/75 [==============================] - 0s 199us/sample - loss: 5.4717e-04 - accuracy: 1.0000 - val_loss: 0.8822 - val_accuracy: 0.6400\n",
      "Epoch 25/100\n",
      "32/75 [===========>..................] - ETA: 0s - loss: 2.4400e-04 - accuracy: 1.0000\n",
      "Epoch 00025: val_loss improved from 0.88210 to 0.88201, saving model to MejorPrueba_sin_Scaling.h5\n",
      "75/75 [==============================] - 0s 434us/sample - loss: 2.6444e-04 - accuracy: 1.0000 - val_loss: 0.8820 - val_accuracy: 0.6400\n",
      "Epoch 26/100\n",
      "32/75 [===========>..................] - ETA: 0s - loss: 4.1063e-04 - accuracy: 1.0000\n",
      "Epoch 00026: val_loss improved from 0.88201 to 0.88177, saving model to MejorPrueba_sin_Scaling.h5\n",
      "75/75 [==============================] - 0s 443us/sample - loss: 3.1609e-04 - accuracy: 1.0000 - val_loss: 0.8818 - val_accuracy: 0.6400\n",
      "Epoch 27/100\n",
      "32/75 [===========>..................] - ETA: 0s - loss: 2.3748e-04 - accuracy: 1.0000\n",
      "Epoch 00027: val_loss improved from 0.88177 to 0.88096, saving model to MejorPrueba_sin_Scaling.h5\n",
      "75/75 [==============================] - 0s 451us/sample - loss: 3.2364e-04 - accuracy: 1.0000 - val_loss: 0.8810 - val_accuracy: 0.6400\n",
      "Epoch 28/100\n",
      "32/75 [===========>..................] - ETA: 0s - loss: 2.3693e-04 - accuracy: 1.0000\n",
      "Epoch 00028: val_loss improved from 0.88096 to 0.87958, saving model to MejorPrueba_sin_Scaling.h5\n",
      "75/75 [==============================] - 0s 445us/sample - loss: 2.7811e-04 - accuracy: 1.0000 - val_loss: 0.8796 - val_accuracy: 0.6400\n",
      "Epoch 29/100\n",
      "32/75 [===========>..................] - ETA: 0s - loss: 0.0011 - accuracy: 1.0000\n",
      "Epoch 00029: val_loss improved from 0.87958 to 0.87877, saving model to MejorPrueba_sin_Scaling.h5\n",
      "75/75 [==============================] - 0s 452us/sample - loss: 6.0440e-04 - accuracy: 1.0000 - val_loss: 0.8788 - val_accuracy: 0.6400\n",
      "Epoch 30/100\n",
      "32/75 [===========>..................] - ETA: 0s - loss: 2.0777e-04 - accuracy: 1.0000\n",
      "Epoch 00030: val_loss did not improve from 0.87877\n",
      "75/75 [==============================] - 0s 208us/sample - loss: 2.7287e-04 - accuracy: 1.0000 - val_loss: 0.8791 - val_accuracy: 0.6800\n",
      "Epoch 31/100\n",
      "32/75 [===========>..................] - ETA: 0s - loss: 3.0933e-04 - accuracy: 1.0000\n",
      "Epoch 00031: val_loss did not improve from 0.87877\n",
      "75/75 [==============================] - 0s 205us/sample - loss: 4.0217e-04 - accuracy: 1.0000 - val_loss: 0.8813 - val_accuracy: 0.6800\n",
      "Epoch 32/100\n",
      "32/75 [===========>..................] - ETA: 0s - loss: 3.2712e-04 - accuracy: 1.0000\n",
      "Epoch 00032: val_loss did not improve from 0.87877\n",
      "75/75 [==============================] - 0s 203us/sample - loss: 2.5930e-04 - accuracy: 1.0000 - val_loss: 0.8849 - val_accuracy: 0.6800\n",
      "Epoch 33/100\n",
      "32/75 [===========>..................] - ETA: 0s - loss: 4.5618e-04 - accuracy: 1.0000\n",
      "Epoch 00033: val_loss did not improve from 0.87877\n",
      "75/75 [==============================] - 0s 202us/sample - loss: 4.2686e-04 - accuracy: 1.0000 - val_loss: 0.8880 - val_accuracy: 0.6800\n",
      "Epoch 34/100\n",
      "32/75 [===========>..................] - ETA: 0s - loss: 2.0693e-04 - accuracy: 1.0000\n",
      "Epoch 00034: val_loss did not improve from 0.87877\n",
      "75/75 [==============================] - 0s 191us/sample - loss: 3.0788e-04 - accuracy: 1.0000 - val_loss: 0.8887 - val_accuracy: 0.6800\n",
      "Epoch 35/100\n",
      "32/75 [===========>..................] - ETA: 0s - loss: 2.2105e-04 - accuracy: 1.0000\n",
      "Epoch 00035: val_loss did not improve from 0.87877\n",
      "75/75 [==============================] - 0s 194us/sample - loss: 2.9632e-04 - accuracy: 1.0000 - val_loss: 0.8868 - val_accuracy: 0.6800\n",
      "Epoch 36/100\n",
      "32/75 [===========>..................] - ETA: 0s - loss: 1.9835e-04 - accuracy: 1.0000\n",
      "Epoch 00036: val_loss did not improve from 0.87877\n",
      "75/75 [==============================] - 0s 198us/sample - loss: 3.3448e-04 - accuracy: 1.0000 - val_loss: 0.8857 - val_accuracy: 0.6800\n",
      "Epoch 37/100\n",
      "32/75 [===========>..................] - ETA: 0s - loss: 1.5245e-04 - accuracy: 1.0000\n",
      "Epoch 00037: val_loss did not improve from 0.87877\n",
      "75/75 [==============================] - 0s 199us/sample - loss: 2.0365e-04 - accuracy: 1.0000 - val_loss: 0.8860 - val_accuracy: 0.6800\n",
      "Epoch 38/100\n",
      "32/75 [===========>..................] - ETA: 0s - loss: 1.2879e-04 - accuracy: 1.0000\n",
      "Epoch 00038: val_loss did not improve from 0.87877\n",
      "75/75 [==============================] - 0s 192us/sample - loss: 2.3215e-04 - accuracy: 1.0000 - val_loss: 0.8877 - val_accuracy: 0.7200\n",
      "Epoch 39/100\n",
      "32/75 [===========>..................] - ETA: 0s - loss: 1.2246e-04 - accuracy: 1.0000\n",
      "Epoch 00039: val_loss did not improve from 0.87877\n",
      "75/75 [==============================] - 0s 194us/sample - loss: 1.4354e-04 - accuracy: 1.0000 - val_loss: 0.8898 - val_accuracy: 0.7200\n",
      "Epoch 40/100\n",
      "32/75 [===========>..................] - ETA: 0s - loss: 2.2144e-04 - accuracy: 1.0000\n",
      "Epoch 00040: val_loss did not improve from 0.87877\n",
      "75/75 [==============================] - 0s 195us/sample - loss: 1.9782e-04 - accuracy: 1.0000 - val_loss: 0.8917 - val_accuracy: 0.7200\n",
      "Epoch 41/100\n",
      "32/75 [===========>..................] - ETA: 0s - loss: 1.1866e-04 - accuracy: 1.0000\n",
      "Epoch 00041: val_loss did not improve from 0.87877\n",
      "75/75 [==============================] - 0s 200us/sample - loss: 2.1239e-04 - accuracy: 1.0000 - val_loss: 0.8935 - val_accuracy: 0.7200\n",
      "Epoch 42/100\n",
      "32/75 [===========>..................] - ETA: 0s - loss: 7.7139e-05 - accuracy: 1.0000\n",
      "Epoch 00042: val_loss did not improve from 0.87877\n",
      "75/75 [==============================] - 0s 203us/sample - loss: 3.4861e-04 - accuracy: 1.0000 - val_loss: 0.8939 - val_accuracy: 0.7200\n",
      "Epoch 43/100\n",
      "32/75 [===========>..................] - ETA: 0s - loss: 1.4046e-04 - accuracy: 1.0000\n",
      "Epoch 00043: val_loss did not improve from 0.87877\n",
      "75/75 [==============================] - 0s 218us/sample - loss: 1.3052e-04 - accuracy: 1.0000 - val_loss: 0.8955 - val_accuracy: 0.7200\n",
      "Epoch 44/100\n",
      "32/75 [===========>..................] - ETA: 0s - loss: 2.1457e-04 - accuracy: 1.0000\n",
      "Epoch 00044: val_loss did not improve from 0.87877\n",
      "75/75 [==============================] - 0s 244us/sample - loss: 3.2251e-04 - accuracy: 1.0000 - val_loss: 0.8964 - val_accuracy: 0.7200\n",
      "Epoch 45/100\n",
      "32/75 [===========>..................] - ETA: 0s - loss: 4.0778e-04 - accuracy: 1.0000\n",
      "Epoch 00045: val_loss did not improve from 0.87877\n",
      "75/75 [==============================] - 0s 265us/sample - loss: 2.7176e-04 - accuracy: 1.0000 - val_loss: 0.8957 - val_accuracy: 0.7200\n",
      "Epoch 46/100\n",
      "32/75 [===========>..................] - ETA: 0s - loss: 2.0095e-04 - accuracy: 1.0000\n",
      "Epoch 00046: val_loss did not improve from 0.87877\n",
      "75/75 [==============================] - 0s 277us/sample - loss: 1.5659e-04 - accuracy: 1.0000 - val_loss: 0.8938 - val_accuracy: 0.6800\n",
      "Epoch 47/100\n",
      "32/75 [===========>..................] - ETA: 0s - loss: 2.2620e-04 - accuracy: 1.0000\n",
      "Epoch 00047: val_loss did not improve from 0.87877\n",
      "75/75 [==============================] - 0s 286us/sample - loss: 2.3518e-04 - accuracy: 1.0000 - val_loss: 0.8907 - val_accuracy: 0.6800\n",
      "Epoch 48/100\n",
      "32/75 [===========>..................] - ETA: 0s - loss: 5.6675e-05 - accuracy: 1.0000\n",
      "Epoch 00048: val_loss did not improve from 0.87877\n",
      "75/75 [==============================] - 0s 282us/sample - loss: 6.4709e-05 - accuracy: 1.0000 - val_loss: 0.8871 - val_accuracy: 0.6800\n",
      "Epoch 49/100\n",
      "32/75 [===========>..................] - ETA: 0s - loss: 1.5769e-04 - accuracy: 1.0000\n",
      "Epoch 00049: val_loss did not improve from 0.87877\n",
      "75/75 [==============================] - 0s 275us/sample - loss: 2.8623e-04 - accuracy: 1.0000 - val_loss: 0.8873 - val_accuracy: 0.6800\n",
      "Epoch 50/100\n",
      "32/75 [===========>..................] - ETA: 0s - loss: 1.1130e-04 - accuracy: 1.0000\n",
      "Epoch 00050: val_loss did not improve from 0.87877\n",
      "75/75 [==============================] - 0s 289us/sample - loss: 1.5427e-04 - accuracy: 1.0000 - val_loss: 0.8880 - val_accuracy: 0.6800\n",
      "Epoch 51/100\n",
      "32/75 [===========>..................] - ETA: 0s - loss: 6.3509e-05 - accuracy: 1.0000\n",
      "Epoch 00051: val_loss did not improve from 0.87877\n",
      "75/75 [==============================] - 0s 283us/sample - loss: 7.4644e-04 - accuracy: 1.0000 - val_loss: 0.8939 - val_accuracy: 0.6800\n",
      "Epoch 52/100\n",
      "32/75 [===========>..................] - ETA: 0s - loss: 5.5146e-05 - accuracy: 1.0000\n",
      "Epoch 00052: val_loss did not improve from 0.87877\n",
      "75/75 [==============================] - 0s 274us/sample - loss: 1.1346e-04 - accuracy: 1.0000 - val_loss: 0.9042 - val_accuracy: 0.6800\n",
      "Epoch 53/100\n",
      "32/75 [===========>..................] - ETA: 0s - loss: 2.1588e-04 - accuracy: 1.0000\n",
      "Epoch 00053: val_loss did not improve from 0.87877\n",
      "75/75 [==============================] - 0s 274us/sample - loss: 2.3609e-04 - accuracy: 1.0000 - val_loss: 0.9112 - val_accuracy: 0.6800\n",
      "Epoch 54/100\n",
      "32/75 [===========>..................] - ETA: 0s - loss: 1.8564e-04 - accuracy: 1.0000\n",
      "Epoch 00054: val_loss did not improve from 0.87877\n",
      "75/75 [==============================] - 0s 278us/sample - loss: 1.7933e-04 - accuracy: 1.0000 - val_loss: 0.9151 - val_accuracy: 0.6800\n",
      "Epoch 55/100\n",
      "32/75 [===========>..................] - ETA: 0s - loss: 1.3404e-04 - accuracy: 1.0000\n",
      "Epoch 00055: val_loss did not improve from 0.87877\n",
      "75/75 [==============================] - 0s 293us/sample - loss: 1.4946e-04 - accuracy: 1.0000 - val_loss: 0.9172 - val_accuracy: 0.6800\n",
      "Epoch 56/100\n",
      "32/75 [===========>..................] - ETA: 0s - loss: 8.8211e-05 - accuracy: 1.0000\n",
      "Epoch 00056: val_loss did not improve from 0.87877\n",
      "75/75 [==============================] - 0s 277us/sample - loss: 1.4193e-04 - accuracy: 1.0000 - val_loss: 0.9145 - val_accuracy: 0.6800\n",
      "Epoch 57/100\n",
      "32/75 [===========>..................] - ETA: 0s - loss: 1.7304e-04 - accuracy: 1.0000\n",
      "Epoch 00057: val_loss did not improve from 0.87877\n",
      "75/75 [==============================] - 0s 289us/sample - loss: 1.3883e-04 - accuracy: 1.0000 - val_loss: 0.9102 - val_accuracy: 0.6800\n",
      "Epoch 58/100\n",
      "32/75 [===========>..................] - ETA: 0s - loss: 1.6377e-04 - accuracy: 1.0000\n",
      "Epoch 00058: val_loss did not improve from 0.87877\n",
      "75/75 [==============================] - 0s 285us/sample - loss: 1.4744e-04 - accuracy: 1.0000 - val_loss: 0.9067 - val_accuracy: 0.6800\n",
      "Epoch 59/100\n",
      "32/75 [===========>..................] - ETA: 0s - loss: 5.2210e-05 - accuracy: 1.0000\n",
      "Epoch 00059: val_loss did not improve from 0.87877\n",
      "75/75 [==============================] - 0s 276us/sample - loss: 1.2248e-04 - accuracy: 1.0000 - val_loss: 0.9059 - val_accuracy: 0.6800\n",
      "Epoch 60/100\n",
      "32/75 [===========>..................] - ETA: 0s - loss: 1.0729e-04 - accuracy: 1.0000\n",
      "Epoch 00060: val_loss did not improve from 0.87877\n",
      "75/75 [==============================] - 0s 274us/sample - loss: 1.7029e-04 - accuracy: 1.0000 - val_loss: 0.9021 - val_accuracy: 0.6800\n",
      "Epoch 61/100\n",
      "32/75 [===========>..................] - ETA: 0s - loss: 4.9140e-05 - accuracy: 1.0000\n",
      "Epoch 00061: val_loss did not improve from 0.87877\n",
      "75/75 [==============================] - 0s 283us/sample - loss: 6.2721e-05 - accuracy: 1.0000 - val_loss: 0.8958 - val_accuracy: 0.6800\n",
      "Epoch 62/100\n",
      "32/75 [===========>..................] - ETA: 0s - loss: 1.7621e-04 - accuracy: 1.0000\n",
      "Epoch 00062: val_loss did not improve from 0.87877\n",
      "75/75 [==============================] - 0s 278us/sample - loss: 1.4089e-04 - accuracy: 1.0000 - val_loss: 0.8926 - val_accuracy: 0.6800\n",
      "Epoch 63/100\n",
      "32/75 [===========>..................] - ETA: 0s - loss: 4.2364e-04 - accuracy: 1.0000\n",
      "Epoch 00063: val_loss did not improve from 0.87877\n",
      "75/75 [==============================] - 0s 270us/sample - loss: 2.3814e-04 - accuracy: 1.0000 - val_loss: 0.8919 - val_accuracy: 0.7200\n",
      "Epoch 64/100\n",
      "32/75 [===========>..................] - ETA: 0s - loss: 1.2119e-04 - accuracy: 1.0000\n",
      "Epoch 00064: val_loss did not improve from 0.87877\n",
      "75/75 [==============================] - 0s 271us/sample - loss: 7.6825e-05 - accuracy: 1.0000 - val_loss: 0.8914 - val_accuracy: 0.7200\n",
      "Epoch 65/100\n",
      "32/75 [===========>..................] - ETA: 0s - loss: 1.0202e-04 - accuracy: 1.0000\n",
      "Epoch 00065: val_loss did not improve from 0.87877\n",
      "75/75 [==============================] - 0s 282us/sample - loss: 1.8293e-04 - accuracy: 1.0000 - val_loss: 0.8928 - val_accuracy: 0.7200\n",
      "Epoch 66/100\n",
      "32/75 [===========>..................] - ETA: 0s - loss: 6.8994e-05 - accuracy: 1.0000\n",
      "Epoch 00066: val_loss did not improve from 0.87877\n",
      "75/75 [==============================] - 0s 286us/sample - loss: 1.5376e-04 - accuracy: 1.0000 - val_loss: 0.8935 - val_accuracy: 0.7200\n",
      "Epoch 67/100\n",
      "32/75 [===========>..................] - ETA: 0s - loss: 1.9945e-04 - accuracy: 1.0000\n",
      "Epoch 00067: val_loss did not improve from 0.87877\n",
      "75/75 [==============================] - 0s 292us/sample - loss: 1.9040e-04 - accuracy: 1.0000 - val_loss: 0.8948 - val_accuracy: 0.7200\n",
      "Epoch 68/100\n",
      "32/75 [===========>..................] - ETA: 0s - loss: 1.0879e-04 - accuracy: 1.0000\n",
      "Epoch 00068: val_loss did not improve from 0.87877\n",
      "75/75 [==============================] - 0s 291us/sample - loss: 8.3432e-05 - accuracy: 1.0000 - val_loss: 0.8966 - val_accuracy: 0.7200\n",
      "Epoch 69/100\n",
      "32/75 [===========>..................] - ETA: 0s - loss: 1.1393e-04 - accuracy: 1.0000\n",
      "Epoch 00069: val_loss did not improve from 0.87877\n",
      "75/75 [==============================] - 0s 282us/sample - loss: 7.7944e-05 - accuracy: 1.0000 - val_loss: 0.8978 - val_accuracy: 0.7200\n",
      "Epoch 70/100\n",
      "32/75 [===========>..................] - ETA: 0s - loss: 2.6771e-04 - accuracy: 1.0000\n",
      "Epoch 00070: val_loss did not improve from 0.87877\n",
      "75/75 [==============================] - 0s 286us/sample - loss: 2.0544e-04 - accuracy: 1.0000 - val_loss: 0.9009 - val_accuracy: 0.7200\n",
      "Epoch 71/100\n",
      "32/75 [===========>..................] - ETA: 0s - loss: 1.1412e-04 - accuracy: 1.0000\n",
      "Epoch 00071: val_loss did not improve from 0.87877\n",
      "75/75 [==============================] - 0s 279us/sample - loss: 1.1605e-04 - accuracy: 1.0000 - val_loss: 0.9028 - val_accuracy: 0.7200\n",
      "Epoch 72/100\n",
      "32/75 [===========>..................] - ETA: 0s - loss: 1.3693e-04 - accuracy: 1.0000\n",
      "Epoch 00072: val_loss did not improve from 0.87877\n",
      "75/75 [==============================] - 0s 284us/sample - loss: 1.1008e-04 - accuracy: 1.0000 - val_loss: 0.9043 - val_accuracy: 0.7200\n",
      "Epoch 73/100\n",
      "32/75 [===========>..................] - ETA: 0s - loss: 8.3306e-05 - accuracy: 1.0000\n",
      "Epoch 00073: val_loss did not improve from 0.87877\n",
      "75/75 [==============================] - 0s 279us/sample - loss: 1.2795e-04 - accuracy: 1.0000 - val_loss: 0.9040 - val_accuracy: 0.7200\n",
      "Epoch 74/100\n",
      "32/75 [===========>..................] - ETA: 0s - loss: 3.8354e-05 - accuracy: 1.0000\n",
      "Epoch 00074: val_loss did not improve from 0.87877\n",
      "75/75 [==============================] - 0s 274us/sample - loss: 7.5834e-05 - accuracy: 1.0000 - val_loss: 0.9028 - val_accuracy: 0.7200\n",
      "Epoch 75/100\n",
      "32/75 [===========>..................] - ETA: 0s - loss: 1.4306e-04 - accuracy: 1.0000\n",
      "Epoch 00075: val_loss did not improve from 0.87877\n",
      "75/75 [==============================] - 0s 274us/sample - loss: 1.2319e-04 - accuracy: 1.0000 - val_loss: 0.8992 - val_accuracy: 0.7200\n",
      "Epoch 76/100\n",
      "32/75 [===========>..................] - ETA: 0s - loss: 6.9265e-05 - accuracy: 1.0000\n",
      "Epoch 00076: val_loss did not improve from 0.87877\n",
      "75/75 [==============================] - 0s 280us/sample - loss: 7.3802e-05 - accuracy: 1.0000 - val_loss: 0.8958 - val_accuracy: 0.7200\n",
      "Epoch 77/100\n",
      "32/75 [===========>..................] - ETA: 0s - loss: 7.1152e-05 - accuracy: 1.0000\n",
      "Epoch 00077: val_loss did not improve from 0.87877\n",
      "75/75 [==============================] - 0s 278us/sample - loss: 5.4162e-05 - accuracy: 1.0000 - val_loss: 0.8937 - val_accuracy: 0.7200\n",
      "Epoch 78/100\n",
      "32/75 [===========>..................] - ETA: 0s - loss: 6.2607e-05 - accuracy: 1.0000\n",
      "Epoch 00078: val_loss did not improve from 0.87877\n",
      "75/75 [==============================] - 0s 280us/sample - loss: 4.4636e-05 - accuracy: 1.0000 - val_loss: 0.8928 - val_accuracy: 0.7200\n",
      "Epoch 79/100\n",
      "32/75 [===========>..................] - ETA: 0s - loss: 7.0896e-05 - accuracy: 1.0000\n",
      "Epoch 00079: val_loss did not improve from 0.87877\n",
      "75/75 [==============================] - 0s 286us/sample - loss: 6.2061e-05 - accuracy: 1.0000 - val_loss: 0.8924 - val_accuracy: 0.7200\n",
      "Epoch 80/100\n",
      "32/75 [===========>..................] - ETA: 0s - loss: 4.9411e-05 - accuracy: 1.0000\n",
      "Epoch 00080: val_loss did not improve from 0.87877\n",
      "75/75 [==============================] - 0s 277us/sample - loss: 4.5236e-05 - accuracy: 1.0000 - val_loss: 0.8926 - val_accuracy: 0.7200\n",
      "Epoch 81/100\n",
      "32/75 [===========>..................] - ETA: 0s - loss: 1.8709e-04 - accuracy: 1.0000\n",
      "Epoch 00081: val_loss did not improve from 0.87877\n",
      "75/75 [==============================] - 0s 289us/sample - loss: 1.3774e-04 - accuracy: 1.0000 - val_loss: 0.8932 - val_accuracy: 0.7200\n",
      "Epoch 82/100\n",
      "32/75 [===========>..................] - ETA: 0s - loss: 7.1719e-05 - accuracy: 1.0000\n",
      "Epoch 00082: val_loss did not improve from 0.87877\n",
      "75/75 [==============================] - 0s 284us/sample - loss: 5.8112e-05 - accuracy: 1.0000 - val_loss: 0.8927 - val_accuracy: 0.7200\n",
      "Epoch 83/100\n",
      "32/75 [===========>..................] - ETA: 0s - loss: 7.9221e-05 - accuracy: 1.0000\n",
      "Epoch 00083: val_loss did not improve from 0.87877\n",
      "75/75 [==============================] - 0s 274us/sample - loss: 9.9854e-05 - accuracy: 1.0000 - val_loss: 0.8926 - val_accuracy: 0.7200\n",
      "Epoch 84/100\n",
      "32/75 [===========>..................] - ETA: 0s - loss: 4.9089e-05 - accuracy: 1.0000\n",
      "Epoch 00084: val_loss did not improve from 0.87877\n",
      "75/75 [==============================] - 0s 277us/sample - loss: 8.6301e-05 - accuracy: 1.0000 - val_loss: 0.8919 - val_accuracy: 0.7200\n",
      "Epoch 85/100\n",
      "32/75 [===========>..................] - ETA: 0s - loss: 2.3449e-04 - accuracy: 1.0000\n",
      "Epoch 00085: val_loss did not improve from 0.87877\n",
      "75/75 [==============================] - 0s 280us/sample - loss: 1.6732e-04 - accuracy: 1.0000 - val_loss: 0.8878 - val_accuracy: 0.7200\n",
      "Epoch 86/100\n",
      "32/75 [===========>..................] - ETA: 0s - loss: 3.4065e-04 - accuracy: 1.0000\n",
      "Epoch 00086: val_loss did not improve from 0.87877\n",
      "75/75 [==============================] - 0s 283us/sample - loss: 1.7094e-04 - accuracy: 1.0000 - val_loss: 0.8826 - val_accuracy: 0.7200\n",
      "Epoch 87/100\n",
      "32/75 [===========>..................] - ETA: 0s - loss: 8.1131e-05 - accuracy: 1.0000\n",
      "Epoch 00087: val_loss did not improve from 0.87877\n",
      "75/75 [==============================] - 0s 272us/sample - loss: 6.7060e-05 - accuracy: 1.0000 - val_loss: 0.8793 - val_accuracy: 0.7200\n",
      "Epoch 88/100\n",
      "32/75 [===========>..................] - ETA: 0s - loss: 6.2515e-05 - accuracy: 1.0000\n",
      "Epoch 00088: val_loss improved from 0.87877 to 0.87680, saving model to MejorPrueba_sin_Scaling.h5\n",
      "75/75 [==============================] - 0s 637us/sample - loss: 1.0975e-04 - accuracy: 1.0000 - val_loss: 0.8768 - val_accuracy: 0.7200\n",
      "Epoch 89/100\n",
      "32/75 [===========>..................] - ETA: 0s - loss: 2.6966e-05 - accuracy: 1.0000\n",
      "Epoch 00089: val_loss improved from 0.87680 to 0.87552, saving model to MejorPrueba_sin_Scaling.h5\n",
      "75/75 [==============================] - 0s 446us/sample - loss: 5.1947e-05 - accuracy: 1.0000 - val_loss: 0.8755 - val_accuracy: 0.7200\n",
      "Epoch 90/100\n",
      "32/75 [===========>..................] - ETA: 0s - loss: 1.0066e-04 - accuracy: 1.0000\n",
      "Epoch 00090: val_loss did not improve from 0.87552\n",
      "75/75 [==============================] - 0s 210us/sample - loss: 1.0401e-04 - accuracy: 1.0000 - val_loss: 0.8760 - val_accuracy: 0.7200\n",
      "Epoch 91/100\n",
      "32/75 [===========>..................] - ETA: 0s - loss: 6.9127e-05 - accuracy: 1.0000\n",
      "Epoch 00091: val_loss did not improve from 0.87552\n",
      "75/75 [==============================] - 0s 204us/sample - loss: 6.4249e-05 - accuracy: 1.0000 - val_loss: 0.8772 - val_accuracy: 0.7600\n",
      "Epoch 92/100\n",
      "32/75 [===========>..................] - ETA: 0s - loss: 2.0649e-04 - accuracy: 1.0000\n",
      "Epoch 00092: val_loss did not improve from 0.87552\n",
      "75/75 [==============================] - 0s 198us/sample - loss: 1.3473e-04 - accuracy: 1.0000 - val_loss: 0.8776 - val_accuracy: 0.7200\n",
      "Epoch 93/100\n",
      "32/75 [===========>..................] - ETA: 0s - loss: 1.6584e-04 - accuracy: 1.0000\n",
      "Epoch 00093: val_loss did not improve from 0.87552\n",
      "75/75 [==============================] - 0s 192us/sample - loss: 1.5661e-04 - accuracy: 1.0000 - val_loss: 0.8779 - val_accuracy: 0.7200\n",
      "Epoch 94/100\n",
      "32/75 [===========>..................] - ETA: 0s - loss: 7.1544e-05 - accuracy: 1.0000\n",
      "Epoch 00094: val_loss did not improve from 0.87552\n",
      "75/75 [==============================] - 0s 211us/sample - loss: 8.0644e-05 - accuracy: 1.0000 - val_loss: 0.8782 - val_accuracy: 0.7200\n",
      "Epoch 95/100\n",
      "32/75 [===========>..................] - ETA: 0s - loss: 4.0499e-05 - accuracy: 1.0000\n",
      "Epoch 00095: val_loss did not improve from 0.87552\n",
      "75/75 [==============================] - 0s 205us/sample - loss: 7.9304e-05 - accuracy: 1.0000 - val_loss: 0.8806 - val_accuracy: 0.7200\n",
      "Epoch 96/100\n",
      "32/75 [===========>..................] - ETA: 0s - loss: 5.0000e-05 - accuracy: 1.0000\n",
      "Epoch 00096: val_loss did not improve from 0.87552\n",
      "75/75 [==============================] - 0s 201us/sample - loss: 4.2441e-05 - accuracy: 1.0000 - val_loss: 0.8850 - val_accuracy: 0.7200\n",
      "Epoch 97/100\n",
      "32/75 [===========>..................] - ETA: 0s - loss: 1.0458e-04 - accuracy: 1.0000\n",
      "Epoch 00097: val_loss did not improve from 0.87552\n",
      "75/75 [==============================] - 0s 191us/sample - loss: 9.4822e-05 - accuracy: 1.0000 - val_loss: 0.8872 - val_accuracy: 0.7200\n",
      "Epoch 98/100\n",
      "32/75 [===========>..................] - ETA: 0s - loss: 4.6198e-05 - accuracy: 1.0000\n",
      "Epoch 00098: val_loss did not improve from 0.87552\n",
      "75/75 [==============================] - 0s 198us/sample - loss: 5.3134e-05 - accuracy: 1.0000 - val_loss: 0.8879 - val_accuracy: 0.7200\n",
      "Epoch 99/100\n",
      "32/75 [===========>..................] - ETA: 0s - loss: 1.3117e-04 - accuracy: 1.0000\n",
      "Epoch 00099: val_loss did not improve from 0.87552\n",
      "75/75 [==============================] - 0s 203us/sample - loss: 1.2177e-04 - accuracy: 1.0000 - val_loss: 0.8887 - val_accuracy: 0.7200\n",
      "Epoch 100/100\n",
      "32/75 [===========>..................] - ETA: 0s - loss: 1.2008e-04 - accuracy: 1.0000\n",
      "Epoch 00100: val_loss did not improve from 0.87552\n",
      "75/75 [==============================] - 0s 202us/sample - loss: 7.3418e-05 - accuracy: 1.0000 - val_loss: 0.8893 - val_accuracy: 0.7200\n"
     ]
    }
   ],
   "source": [
    "history1 = model.fit(x_train,y_train, epochs= 100, validation_data=(x_val,y_val),callbacks=[checkpoint])\n",
    "data = (x_val, y_val)"
   ]
  },
  {
   "cell_type": "code",
   "execution_count": 37,
   "metadata": {},
   "outputs": [
    {
     "name": "stdout",
     "output_type": "stream",
     "text": [
      "[0 0 0 3 1 4 2 0 2 1]\n",
      "[0. 0. 0. 3. 1. 4. 2. 0. 2. 1.]\n",
      "(10, 427, 16)\n"
     ]
    }
   ],
   "source": [
    "class_pred = model.predict(x_test, batch_size=32)\n",
    "class_pred = np.argmax(class_pred, axis=1)\n",
    "print(class_pred)\n",
    "print(y_test)\n",
    "confusion_matrix(y_test, class_pred)\n",
    "print(x_test.shape)"
   ]
  },
  {
   "cell_type": "code",
   "execution_count": 38,
   "metadata": {},
   "outputs": [
    {
     "data": {
      "text/plain": [
       "<matplotlib.legend.Legend at 0x7ff10c03f990>"
      ]
     },
     "execution_count": 38,
     "metadata": {},
     "output_type": "execute_result"
    },
    {
     "data": {
      "image/png": "[encoded data removed]",
      "text/plain": [
       "<Figure size 432x288 with 1 Axes>"
      ]
     },
     "metadata": {
      "needs_background": "light"
     },
     "output_type": "display_data"
    }
   ],
   "source": [
    "model.save_weights(\"pesos1.h5\")\n",
    "plt.plot(history1.history['val_accuracy'],label=\"valA\")\n",
    "plt.plot(history1.history['accuracy'],label=\"Accuracy\")\n",
    "plt.legend()"
   ]
  },
  {
   "cell_type": "code",
   "execution_count": 39,
   "metadata": {},
   "outputs": [
    {
     "data": {
      "image/png": "[encoded data removed]",
      "text/plain": [
       "<Figure size 288x288 with 2 Axes>"
      ]
     },
     "metadata": {
      "needs_background": "light"
     },
     "output_type": "display_data"
    }
   ],
   "source": [
    "from sklearn.metrics import confusion_matrix\n",
    "mat = confusion_matrix(y_test,class_pred)\n",
    "mat = mat/np.max(mat,axis=0) #normaliza\n",
    "plt.matshow(mat)\n",
    "plt.colorbar()\n",
    "plt.xlabel(\"True\")\n",
    "plt.ylabel(\"Predicted\")\n",
    "plt.show()"
   ]
  },
  {
   "cell_type": "code",
   "execution_count": 40,
   "metadata": {},
   "outputs": [
    {
     "data": {
      "text/plain": [
       "array([[16,  0,  0,  0,  0],\n",
       "       [ 0, 14,  0,  0,  0],\n",
       "       [ 0,  0, 14,  0,  0],\n",
       "       [ 0,  0,  0, 15,  0],\n",
       "       [ 0,  0,  0,  0, 16]])"
      ]
     },
     "execution_count": 40,
     "metadata": {},
     "output_type": "execute_result"
    }
   ],
   "source": [
    "class_pred = model.predict(x_train, batch_size=32)\n",
    "class_pred = np.argmax(class_pred, axis=1)\n",
    "confusion_matrix(y_train, class_pred)"
   ]
  },
  {
   "cell_type": "code",
   "execution_count": 41,
   "metadata": {},
   "outputs": [
    {
     "data": {
      "image/png": "[encoded data removed]",
      "text/plain": [
       "<Figure size 288x288 with 2 Axes>"
      ]
     },
     "metadata": {
      "needs_background": "light"
     },
     "output_type": "display_data"
    }
   ],
   "source": [
    "mat = confusion_matrix(y_train,class_pred)\n",
    "mat = mat/np.max(mat,axis=0) #normaliza\n",
    "plt.matshow(mat)\n",
    "plt.colorbar()\n",
    "plt.xlabel(\"True\")\n",
    "plt.ylabel(\"Predicted\")\n",
    "plt.show()"
   ]
  },
  {
   "cell_type": "code",
   "execution_count": 42,
   "metadata": {},
   "outputs": [],
   "source": [
    "# clf = MLPClassifier(activation = 'relu',hidden_layer_sizes=(200,190), max_iter=1000, alpha=1e-5,\n",
    "#                     solver='adam', verbose=0, random_state=1,\n",
    "#                     learning_rate_init=.01)\n",
    "# clf.fit(train.iloc[:,2:18], train.iloc[:,19])\n",
    "# print(\"Test set score: %f\" % clf.score(test.iloc[:,2:18], test.iloc[:,19]))\n",
    "# print(\"Training set score: %f\" % clf.score(train.iloc[:,2:18], train.iloc[:,19]))\n",
    "# fig, axs = plt.subplots(ncols=2, sharey=True, figsize=(7, 4))\n",
    "# fig.subplots_adjust(hspace=0.5, left=0.07, right=0.93)\n",
    "\n",
    "# ax1=plot_confusion_matrix(clf,test.iloc[:,2:18], test.iloc[:,19],cmap='Blues',values_format='d',ax=axs[0])\n",
    "# ax2=plot_confusion_matrix(clf,train.iloc[:,2:18], train.iloc[:,19],cmap='Blues',values_format='d',ax=axs[1])"
   ]
  },
  {
   "cell_type": "code",
   "execution_count": 44,
   "metadata": {},
   "outputs": [],
   "source": [
    "features=[]\n",
    "df = pd.read_csv(\"/home/ivandanielvillegas/work/home/Entrenamiento/Datos/Paciente_ID_cristian/Gesto_5/Datos_CSV_ULTRACORTEX/datos_1.csv\",encoding='ISO-8859-1', skiprows = 2,sep=';')\n",
    "features.append(df.iloc[90:517,0:16].values)"
   ]
  },
  {
   "cell_type": "code",
   "execution_count": 45,
   "metadata": {},
   "outputs": [
    {
     "name": "stdout",
     "output_type": "stream",
     "text": [
      "(427, 16)\n",
      "(1, 427, 16)\n"
     ]
    }
   ],
   "source": [
    "print(features[0].shape)\n",
    "features= np.expand_dims(features[0],0)\n",
    "print(features.shape)"
   ]
  },
  {
   "cell_type": "code",
   "execution_count": 46,
   "metadata": {},
   "outputs": [],
   "source": [
    "class_pred = model.predict(features, batch_size=32)\n",
    "class_pred = np.argmax(class_pred, axis=1)"
   ]
  },
  {
   "cell_type": "code",
   "execution_count": 47,
   "metadata": {},
   "outputs": [
    {
     "name": "stdout",
     "output_type": "stream",
     "text": [
      "[4]\n"
     ]
    }
   ],
   "source": [
    "print(class_pred)"
   ]
  },
  {
   "cell_type": "code",
   "execution_count": null,
   "metadata": {},
   "outputs": [],
   "source": []
  }
 ],
 "metadata": {
  "kernelspec": {
   "display_name": "Python 3",
   "language": "python",
   "name": "python3"
  },
  "language_info": {
   "codemirror_mode": {
    "name": "ipython",
    "version": 3
   },
   "file_extension": ".py",
   "mimetype": "text/x-python",
   "name": "python",
   "nbconvert_exporter": "python",
   "pygments_lexer": "ipython3",
   "version": "3.7.6"
  }
 },
 "nbformat": 4,
 "nbformat_minor": 4
}
