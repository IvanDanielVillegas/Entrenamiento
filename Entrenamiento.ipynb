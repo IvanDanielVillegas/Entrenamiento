{
 "cells": [
  {
   "cell_type": "markdown",
   "metadata": {},
   "source": [
    "### CARGAR DATOS"
   ]
  },
  {
   "cell_type": "code",
   "execution_count": 4,
   "metadata": {},
   "outputs": [],
   "source": [
    "#Extraer archivos de datos .ZIP\n",
    "import zipfile as zf\n",
    "\n",
    "ArchivoZIP = \"Paciente_ID_cristian.zip\"\n",
    "ArchivoDES = 'Datos/'\n",
    "files = zf.ZipFile(ArchivoZIP, 'r')\n",
    "files.extractall(ArchivoDES)\n",
    "files.close()"
   ]
  },
  {
   "cell_type": "code",
   "execution_count": 3,
   "metadata": {},
   "outputs": [],
   "source": [
    "!rm -rf Entrenamiento"
   ]
  },
  {
   "cell_type": "code",
   "execution_count": 95,
   "metadata": {},
   "outputs": [],
   "source": [
    "import pandas as pd\n",
    "import seaborn as sns\n",
    "import numpy as np\n",
    "import matplotlib.pyplot as plt"
   ]
  },
  {
   "cell_type": "code",
   "execution_count": 8,
   "metadata": {},
   "outputs": [
    {
     "name": "stdout",
     "output_type": "stream",
     "text": [
      "Paciente_ID_cristian\n",
      "/home/ivandanielvillegas/work/Entrenamiento\n"
     ]
    }
   ],
   "source": [
    "!ls 'Datos/'\n",
    "!pwd"
   ]
  },
  {
   "cell_type": "code",
   "execution_count": 9,
   "metadata": {},
   "outputs": [
    {
     "data": {
      "text/plain": [
       "['/home/ivandanielvillegas/work/Entrenamiento/Datos/Paciente_ID_cristian/']"
      ]
     },
     "execution_count": 9,
     "metadata": {},
     "output_type": "execute_result"
    }
   ],
   "source": [
    "from glob import glob\n",
    "my_dirs2 = glob(\"/home/ivandanielvillegas/work/Entrenamiento/Datos/*/\")\n",
    "my_dirs2.sort()\n",
    "my_dirs2"
   ]
  },
  {
   "cell_type": "code",
   "execution_count": 14,
   "metadata": {},
   "outputs": [],
   "source": [
    "# OZ, OD, Cejas, Mandibula, nada \n",
    "dict_gestos = ['Gesto_1','Gesto_2','Gesto_3','Gesto_4','Gesto_5'] \n"
   ]
  },
  {
   "cell_type": "code",
   "execution_count": 21,
   "metadata": {},
   "outputs": [
    {
     "name": "stdout",
     "output_type": "stream",
     "text": [
      "['datos_1.csv', 'datos_2.csv', 'datos_3.csv', 'datos_4.csv', 'datos_5.csv', 'datos_6.csv', 'datos_7.csv', 'datos_8.csv', 'datos_9.csv', 'datos_10.csv', 'datos_11.csv', 'datos_12.csv', 'datos_13.csv', 'datos_14.csv', 'datos_15.csv', 'datos_16.csv', 'datos_17.csv', 'datos_18.csv', 'datos_19.csv', 'datos_20.csv']\n"
     ]
    }
   ],
   "source": [
    "# dict_datos = ['datos_1.csv','datos_2.csv','datos_3.csv','datos_4.csv','datos_5.csv','datos_6.csv', 'datos_7.csv', 'datos_8.csv', 'datos_9.csv', 'datos_10.csv']\n",
    "dict_datos = glob(\"/home/ivandanielvillegas/work/Entrenamiento/Datos/Paciente_ID_cristian/Gesto_1/Datos_CSV_ULTRACORTEX/*\")\n",
    "dict_datos.sort()\n",
    "dict_datos\n",
    "datos = []\n",
    "for i in range(len(dict_datos)):\n",
    "    datos.append(f'datos_{i+1}.csv')\n",
    "print(datos)"
   ]
  },
  {
   "cell_type": "code",
   "execution_count": 18,
   "metadata": {},
   "outputs": [],
   "source": [
    "def Verificar_datos(my_dirs2, dict_gestos, datos):\n",
    "    shapes=[]\n",
    "#     for i in range(len(my_dirs2)):\n",
    "    for j in range(len(dict_gestos)):\n",
    "            #print(my_dirs2[i]+dict_gestos[j])\n",
    "            for k in range(len(datos)):\n",
    "              #print(my_dirs2[i]+dict_gestos[j]+'/Datos_CSV_MYO/'+dict_datos[k])\n",
    "              df = pd.read_csv(my_dirs2[0]+dict_gestos[j]+'/Datos_CSV_ULTRACORTEX/'+datos[k],encoding='ISO-8859-1', skiprows = 2,sep=';')\n",
    "              shapes.append(df.shape)\n",
    "              #print(i,j,df.shape)\n",
    "    print(np.unique(shapes), len(shapes))\n",
    "    \n",
    "    from collections import Counter\n",
    "    counter=Counter(shapes)\n",
    "    print(counter)\n",
    "#     i = 9\n",
    "#     j = 4\n",
    "#     shapess = []\n",
    "#     for k in range(len(datos)):\n",
    "#         df = pd.read_csv(my_dirs2[i]+dict_gestos[j]+'/Datos_CSV_ULTRACORTEX/'+datos[k],encoding='ISO-8859-1', skiprows = 2,sep=';')\n",
    "#         shapess.append(df.shape)\n",
    "#         np.unique(shapess), len(shapess)\n",
    "#         from collections import Counter\n",
    "#         counter=Counter(shapess)\n",
    "#         print(counter)\n",
    "#         print(my_dirs2[i]+dict_gestos[j]+'/Datos_CSV_ULTRACORTEX/'+datos[k])"
   ]
  },
  {
   "cell_type": "code",
   "execution_count": 22,
   "metadata": {},
   "outputs": [
    {
     "name": "stdout",
     "output_type": "stream",
     "text": [
      "[ 17 622 625] 100\n",
      "Counter({(625, 17): 90, (622, 17): 10})\n",
      "/home/ivandanielvillegas/work/Entrenamiento/Datos/Paciente_ID_cristian/\n"
     ]
    }
   ],
   "source": [
    "\n",
    "Verificar_datos(my_dirs2, dict_gestos, datos[0:20])\n",
    "print(my_dirs2[0])"
   ]
  },
  {
   "cell_type": "code",
   "execution_count": 117,
   "metadata": {},
   "outputs": [],
   "source": [
    "features=[]\n",
    "# for i in range(len(my_dirs2)):\n",
    "for j in range(len(dict_gestos)):\n",
    "    #print(my_dirs2[i]+dict_gestos[j])\n",
    "    for k in range(len(datos)):\n",
    "      #print(my_dirs2[i]+dict_gestos[j]+'/Datos_CSV_MYO/'+dict_datos[k])\n",
    "      df = pd.read_csv(my_dirs2[0]+dict_gestos[j]+'/Datos_CSV_ULTRACORTEX/'+datos[k],encoding='ISO-8859-1', skiprows = 2,sep=';')\n",
    "      if (df.shape[0] != 625):\n",
    "            tamaño = df.shape[0]\n",
    "            for i in range(625-df.shape[0]):\n",
    "                df.loc[df.shape[0]+i+1] = df.values[tamaño-1-i]\n",
    "      features.append(df.iloc[90:517,0:16].values)\n",
    "      #features.append(df.iloc[0:-1,0:16].values)\n",
    "\n"
   ]
  },
  {
   "cell_type": "code",
   "execution_count": 118,
   "metadata": {},
   "outputs": [
    {
     "name": "stdout",
     "output_type": "stream",
     "text": [
      "1 100 (427, 16)\n",
      "2 100 (427, 16)\n",
      "3 100 (427, 16)\n",
      "4 100 (427, 16)\n",
      "5 100 (427, 16)\n",
      "6 100 (427, 16)\n",
      "7 100 (427, 16)\n",
      "8 100 (427, 16)\n",
      "9 100 (427, 16)\n",
      "10 100 (427, 16)\n",
      "11 100 (427, 16)\n",
      "12 100 (427, 16)\n",
      "13 100 (427, 16)\n",
      "14 100 (427, 16)\n",
      "15 100 (427, 16)\n",
      "16 100 (427, 16)\n",
      "17 100 (427, 16)\n",
      "18 100 (427, 16)\n",
      "19 100 (427, 16)\n",
      "20 100 (427, 16)\n",
      "21 100 (427, 16)\n",
      "22 100 (427, 16)\n",
      "23 100 (427, 16)\n",
      "24 100 (427, 16)\n",
      "25 100 (427, 16)\n",
      "26 100 (427, 16)\n",
      "27 100 (427, 16)\n",
      "28 100 (427, 16)\n",
      "29 100 (427, 16)\n",
      "30 100 (427, 16)\n",
      "31 100 (427, 16)\n",
      "32 100 (427, 16)\n",
      "33 100 (427, 16)\n",
      "34 100 (427, 16)\n",
      "35 100 (427, 16)\n",
      "36 100 (427, 16)\n",
      "37 100 (427, 16)\n",
      "38 100 (427, 16)\n",
      "39 100 (427, 16)\n",
      "40 100 (427, 16)\n",
      "41 100 (427, 16)\n",
      "42 100 (427, 16)\n",
      "43 100 (427, 16)\n",
      "44 100 (427, 16)\n",
      "45 100 (427, 16)\n",
      "46 100 (427, 16)\n",
      "47 100 (427, 16)\n",
      "48 100 (427, 16)\n",
      "49 100 (427, 16)\n",
      "50 100 (427, 16)\n",
      "51 100 (427, 16)\n",
      "52 100 (427, 16)\n",
      "53 100 (427, 16)\n",
      "54 100 (427, 16)\n",
      "55 100 (427, 16)\n",
      "56 100 (427, 16)\n",
      "57 100 (427, 16)\n",
      "58 100 (427, 16)\n",
      "59 100 (427, 16)\n",
      "60 100 (427, 16)\n",
      "61 100 (427, 16)\n",
      "62 100 (427, 16)\n",
      "63 100 (427, 16)\n",
      "64 100 (427, 16)\n",
      "65 100 (427, 16)\n",
      "66 100 (427, 16)\n",
      "67 100 (427, 16)\n",
      "68 100 (427, 16)\n",
      "69 100 (427, 16)\n",
      "70 100 (427, 16)\n",
      "71 100 (427, 16)\n",
      "72 100 (427, 16)\n",
      "73 100 (427, 16)\n",
      "74 100 (427, 16)\n",
      "75 100 (427, 16)\n",
      "76 100 (427, 16)\n",
      "77 100 (427, 16)\n",
      "78 100 (427, 16)\n",
      "79 100 (427, 16)\n",
      "80 100 (427, 16)\n",
      "81 100 (427, 16)\n",
      "82 100 (427, 16)\n",
      "83 100 (427, 16)\n",
      "84 100 (427, 16)\n",
      "85 100 (427, 16)\n",
      "86 100 (427, 16)\n",
      "87 100 (427, 16)\n",
      "88 100 (427, 16)\n",
      "89 100 (427, 16)\n",
      "90 100 (427, 16)\n",
      "91 100 (427, 16)\n",
      "92 100 (427, 16)\n",
      "93 100 (427, 16)\n",
      "94 100 (427, 16)\n",
      "95 100 (427, 16)\n",
      "96 100 (427, 16)\n",
      "97 100 (427, 16)\n",
      "98 100 (427, 16)\n",
      "99 100 (427, 16)\n",
      "100 100 (427, 16)\n"
     ]
    }
   ],
   "source": [
    "for i in range(100):    \n",
    "    len(features), features[i].shape\n",
    "    if (features[i].shape != (300,16)):\n",
    "        print(i+1,len(features), features[i].shape)"
   ]
  },
  {
   "cell_type": "code",
   "execution_count": 119,
   "metadata": {},
   "outputs": [
    {
     "data": {
      "text/plain": [
       "(100, (427, 16))"
      ]
     },
     "execution_count": 119,
     "metadata": {},
     "output_type": "execute_result"
    }
   ],
   "source": [
    "len(features), features[0].shape"
   ]
  },
  {
   "cell_type": "code",
   "execution_count": 120,
   "metadata": {},
   "outputs": [
    {
     "data": {
      "image/png": "[encoded data removed]",
      "text/plain": [
       "<Figure size 432x288 with 1 Axes>"
      ]
     },
     "metadata": {
      "needs_background": "light"
     },
     "output_type": "display_data"
    }
   ],
   "source": [
    "features_array = np.array(features)\n",
    "features_array.shape\n",
    "plt.figure\n",
    "plt.plot(features_array[22,:,4])\n",
    "plt.show()"
   ]
  },
  {
   "cell_type": "code",
   "execution_count": 78,
   "metadata": {},
   "outputs": [
    {
     "data": {
      "text/plain": [
       "array([[ -0.12838113,  -2.4328784 ,   3.39776671, ...,   2.92923603,\n",
       "         -0.51872987,   0.55630694],\n",
       "       [ -0.13241684,  -2.1665472 ,   4.44990644, ...,   8.12684391,\n",
       "          1.27957787,   3.30150861],\n",
       "       [ -0.20455014,  -1.06819262,   4.42178485, ...,  11.70579483,\n",
       "          2.62535858,   5.2871634 ],\n",
       "       ...,\n",
       "       [ -1.84881049,  -3.53984075,  -4.59486077, ..., -10.06736584,\n",
       "         -1.70882874,  -0.92667964],\n",
       "       [  0.12727313,  -0.608674  ,  -6.42347268, ...,  -7.53784122,\n",
       "          0.26908705,   0.23608722],\n",
       "       [  2.2032453 ,   2.09661946,  -6.37249936, ...,  -3.32897073,\n",
       "          2.25446332,   1.51668296]])"
      ]
     },
     "execution_count": 78,
     "metadata": {},
     "output_type": "execute_result"
    }
   ],
   "source": [
    "features_array[10]"
   ]
  },
  {
   "cell_type": "markdown",
   "metadata": {},
   "source": [
    "### VECTOR DE ETIQUETAS"
   ]
  },
  {
   "cell_type": "code",
   "execution_count": 79,
   "metadata": {},
   "outputs": [
    {
     "data": {
      "text/plain": [
       "(1, 100)"
      ]
     },
     "execution_count": 79,
     "metadata": {},
     "output_type": "execute_result"
    }
   ],
   "source": [
    "#Haciendo nuestro vector de etiquetas\n",
    "long = len(dict_datos)\n",
    "labels = np.concatenate((np.zeros(long),np.ones(long),np.ones(long)*2,np.ones(long)*3,np.ones(long)*4),axis=0)\n",
    "labels\n",
    "\n",
    "def repeat(arr, count):\n",
    "    return np.stack([arr for _ in range(count)], axis=0)\n",
    "\n",
    "# labels = repeat(labels,len(my_dirs2)) # Cantidad de pacientes\n",
    "labels = repeat(labels,1)\n",
    "\n",
    "labels.shape\n"
   ]
  },
  {
   "cell_type": "code",
   "execution_count": 80,
   "metadata": {},
   "outputs": [
    {
     "data": {
      "text/plain": [
       "(array([0., 0., 0., 0., 0., 0., 0., 0., 0., 0., 0., 0., 0., 0., 0., 0., 0.,\n",
       "        0., 0., 0., 1., 1., 1., 1., 1., 1., 1., 1., 1., 1., 1., 1., 1., 1.,\n",
       "        1., 1., 1., 1., 1., 1., 2., 2., 2., 2., 2., 2., 2., 2., 2., 2., 2.,\n",
       "        2., 2., 2., 2., 2., 2., 2., 2., 2., 3., 3., 3., 3., 3., 3., 3., 3.,\n",
       "        3., 3., 3., 3., 3., 3., 3., 3., 3., 3., 3., 3., 4., 4., 4., 4., 4.,\n",
       "        4., 4., 4., 4., 4., 4., 4., 4., 4., 4., 4., 4., 4., 4., 4.]),\n",
       " (100,))"
      ]
     },
     "execution_count": 80,
     "metadata": {},
     "output_type": "execute_result"
    }
   ],
   "source": [
    "labels = np.reshape(labels,100)\n",
    "labels, labels.shape"
   ]
  },
  {
   "cell_type": "markdown",
   "metadata": {},
   "source": [
    "### AJUSTE DE TENSOR DE ENTRADA "
   ]
  },
  {
   "cell_type": "code",
   "execution_count": 104,
   "metadata": {},
   "outputs": [
    {
     "data": {
      "image/png": "[encoded data removed]",
      "text/plain": [
       "<Figure size 432x288 with 1 Axes>"
      ]
     },
     "metadata": {
      "needs_background": "light"
     },
     "output_type": "display_data"
    }
   ],
   "source": [
    "features_array.shape, np.sum(features_array[0:100,:,:])\n",
    "plt.figure\n",
    "plt.plot(features_array[5,:,2])\n",
    "plt.show()"
   ]
  },
  {
   "cell_type": "code",
   "execution_count": 82,
   "metadata": {},
   "outputs": [],
   "source": [
    "#features_array2 = np.reshape(features_array,(100,4800))\n",
    "#features_array2.shape, np.sum(features_array2[0:100,:])"
   ]
  },
  {
   "cell_type": "code",
   "execution_count": 83,
   "metadata": {},
   "outputs": [],
   "source": [
    "import tensorflow as tf\n",
    "import tensorflow.keras as keras\n",
    "from tensorflow.keras import layers\n",
    "from keras.models import Model\n",
    "from keras.callbacks import ModelCheckpoint\n",
    "from keras.layers import Input, Dense\n",
    "from sklearn.model_selection import train_test_split\n",
    "from sklearn.metrics import confusion_matrix\n",
    "from sklearn import preprocessing\n",
    "from keras.models import model_from_json"
   ]
  },
  {
   "cell_type": "code",
   "execution_count": 141,
   "metadata": {},
   "outputs": [
    {
     "name": "stdout",
     "output_type": "stream",
     "text": [
      "(90, 427, 16)\n",
      "(90,)\n",
      "(10, 427, 16)\n",
      "[2. 0. 3. 3. 4. 0. 1. 2. 3. 3.]\n",
      "(75, 427, 16)\n",
      "(75,)\n",
      "(25, 427, 16)\n",
      "(25,)\n"
     ]
    }
   ],
   "source": [
    "#Xsplit = int(features_array2.shape[0] * 0.8) \n",
    "#X_train_split = features_array2[0:Xsplit,:]\n",
    "#X_test_split = features_array2[Xsplit:,:]\n",
    "#labels_train = labels[0:Xsplit]\n",
    "#labels_test = labels[Xsplit:]\n",
    "X_train,x_test,Y_train,y_test = train_test_split(features_array,labels,train_size=0.9)\n",
    "print(X_train.shape)\n",
    "print(Y_train.shape)\n",
    "print(x_test.shape)\n",
    "print(y_test)\n",
    "x_train,x_val,y_train,y_val = train_test_split(features_array,labels)\n",
    "print(x_train.shape)\n",
    "print(y_train.shape)\n",
    "print(x_val.shape)\n",
    "print(y_val.shape)"
   ]
  },
  {
   "cell_type": "code",
   "execution_count": 142,
   "metadata": {},
   "outputs": [],
   "source": [
    "#print(\"Label distribution: {}, total classes {}\".format(np.unique(labels_train), len(np.unique(labels_train))))"
   ]
  },
  {
   "cell_type": "code",
   "execution_count": 176,
   "metadata": {},
   "outputs": [
    {
     "name": "stdout",
     "output_type": "stream",
     "text": [
      "Model: \"model_sing\"\n",
      "_________________________________________________________________\n",
      "Layer (type)                 Output Shape              Param #   \n",
      "=================================================================\n",
      "input_10 (InputLayer)        [(None, 427, 16)]         0         \n",
      "_________________________________________________________________\n",
      "conv1d_18 (Conv1D)           (None, 178, 16)           64016     \n",
      "_________________________________________________________________\n",
      "max_pooling1d_17 (MaxPooling (None, 89, 16)            0         \n",
      "_________________________________________________________________\n",
      "conv1d_19 (Conv1D)           (None, 10, 16)            20496     \n",
      "_________________________________________________________________\n",
      "max_pooling1d_18 (MaxPooling (None, 5, 16)             0         \n",
      "_________________________________________________________________\n",
      "flatten_8 (Flatten)          (None, 80)                0         \n",
      "_________________________________________________________________\n",
      "dense_16 (Dense)             (None, 256)               20736     \n",
      "_________________________________________________________________\n",
      "dropout_8 (Dropout)          (None, 256)               0         \n",
      "_________________________________________________________________\n",
      "dense_17 (Dense)             (None, 5)                 1285      \n",
      "=================================================================\n",
      "Total params: 106,533\n",
      "Trainable params: 106,533\n",
      "Non-trainable params: 0\n",
      "_________________________________________________________________\n"
     ]
    }
   ],
   "source": [
    "input_shape = (427,16)\n",
    "inputs = keras.layers.Input(input_shape)\n",
    "x = keras.layers.Conv1D(16, 250, activation='relu',input_shape=input_shape)(inputs)\n",
    "x = keras.layers.MaxPool1D(pool_size=2, strides = 2, padding = 'same')(x)\n",
    "x = keras.layers.Conv1D(16, 80, activation='relu',input_shape=input_shape)(x)\n",
    "x = keras.layers.MaxPool1D(pool_size=2, strides = 2, padding = 'same')(x)\n",
    "x = keras.layers.Flatten()(x)\n",
    "x = keras.layers.Dense(256,activation = 'relu')(x)\n",
    "x = keras.layers.Dropout(0.2)(x)\n",
    "outputs = keras.layers.Dense(units=5, activation= 'softmax')(x)\n",
    "\n",
    "model = keras.Model(inputs = inputs, outputs=outputs, name ='model_sing')\n",
    "\n",
    "checkpoint = ModelCheckpoint('MejorPrueba_sin_Scaling.h5', \n",
    "                             monitor='val_loss',\n",
    "                             verbose=1,\n",
    "                             save_best_only= True,\n",
    "                             mode='auto')\n",
    "\n",
    "model.compile(optimizer = 'adam' , loss = 'sparse_categorical_crossentropy' , metrics = ['accuracy'])\n",
    "model.summary()\n",
    "\n",
    "model_json = model.to_json()\n",
    "with open(\"model.json\", \"w\") as json_file:\n",
    "    json_file.write(model_json)"
   ]
  },
  {
   "cell_type": "code",
   "execution_count": 144,
   "metadata": {},
   "outputs": [
    {
     "name": "stdout",
     "output_type": "stream",
     "text": [
      "Train on 75 samples, validate on 25 samples\n",
      "Epoch 1/100\n",
      "32/75 [===========>..................] - ETA: 1s - loss: 16.1025 - accuracy: 0.2812\n",
      "Epoch 00001: val_loss improved from inf to 5.23628, saving model to MejorPrueba_sin_Scaling.h5\n",
      "75/75 [==============================] - 2s 22ms/sample - loss: 17.2675 - accuracy: 0.2667 - val_loss: 5.2363 - val_accuracy: 0.4400\n",
      "Epoch 2/100\n",
      "32/75 [===========>..................] - ETA: 0s - loss: 3.5580 - accuracy: 0.5312\n",
      "Epoch 00002: val_loss did not improve from 5.23628\n",
      "75/75 [==============================] - 0s 344us/sample - loss: 3.8449 - accuracy: 0.4800 - val_loss: 5.5919 - val_accuracy: 0.4800\n",
      "Epoch 3/100\n",
      "32/75 [===========>..................] - ETA: 0s - loss: 1.8722 - accuracy: 0.6250\n",
      "Epoch 00003: val_loss improved from 5.23628 to 4.19736, saving model to MejorPrueba_sin_Scaling.h5\n",
      "75/75 [==============================] - 0s 638us/sample - loss: 1.2103 - accuracy: 0.6800 - val_loss: 4.1974 - val_accuracy: 0.4400\n",
      "Epoch 4/100\n",
      "32/75 [===========>..................] - ETA: 0s - loss: 2.1715 - accuracy: 0.6562\n",
      "Epoch 00004: val_loss did not improve from 4.19736\n",
      "75/75 [==============================] - 0s 204us/sample - loss: 1.6006 - accuracy: 0.7067 - val_loss: 4.9034 - val_accuracy: 0.5200\n",
      "Epoch 5/100\n",
      "32/75 [===========>..................] - ETA: 0s - loss: 1.4884 - accuracy: 0.6875\n",
      "Epoch 00005: val_loss did not improve from 4.19736\n",
      "75/75 [==============================] - 0s 299us/sample - loss: 1.3848 - accuracy: 0.7067 - val_loss: 4.9619 - val_accuracy: 0.5600\n",
      "Epoch 6/100\n",
      "32/75 [===========>..................] - ETA: 0s - loss: 1.3336 - accuracy: 0.7188\n",
      "Epoch 00006: val_loss improved from 4.19736 to 3.52289, saving model to MejorPrueba_sin_Scaling.h5\n",
      "75/75 [==============================] - 0s 461us/sample - loss: 0.7907 - accuracy: 0.7733 - val_loss: 3.5229 - val_accuracy: 0.6000\n",
      "Epoch 7/100\n",
      "32/75 [===========>..................] - ETA: 0s - loss: 0.6871 - accuracy: 0.7500\n",
      "Epoch 00007: val_loss improved from 3.52289 to 3.29976, saving model to MejorPrueba_sin_Scaling.h5\n",
      "75/75 [==============================] - 0s 533us/sample - loss: 1.5196 - accuracy: 0.8267 - val_loss: 3.2998 - val_accuracy: 0.6800\n",
      "Epoch 8/100\n",
      "32/75 [===========>..................] - ETA: 0s - loss: 0.1887 - accuracy: 0.9375\n",
      "Epoch 00008: val_loss improved from 3.29976 to 3.18822, saving model to MejorPrueba_sin_Scaling.h5\n",
      "75/75 [==============================] - 0s 799us/sample - loss: 0.1911 - accuracy: 0.9333 - val_loss: 3.1882 - val_accuracy: 0.6400\n",
      "Epoch 9/100\n",
      "32/75 [===========>..................] - ETA: 0s - loss: 0.5366 - accuracy: 0.9375\n",
      "Epoch 00009: val_loss improved from 3.18822 to 2.40212, saving model to MejorPrueba_sin_Scaling.h5\n",
      "75/75 [==============================] - 0s 588us/sample - loss: 0.3724 - accuracy: 0.9200 - val_loss: 2.4021 - val_accuracy: 0.6000\n",
      "Epoch 10/100\n",
      "32/75 [===========>..................] - ETA: 0s - loss: 2.9618 - accuracy: 0.9375\n",
      "Epoch 00010: val_loss improved from 2.40212 to 2.33121, saving model to MejorPrueba_sin_Scaling.h5\n",
      "75/75 [==============================] - 0s 568us/sample - loss: 1.3929 - accuracy: 0.9333 - val_loss: 2.3312 - val_accuracy: 0.5600\n",
      "Epoch 11/100\n",
      "32/75 [===========>..................] - ETA: 0s - loss: 0.2543 - accuracy: 0.9375\n",
      "Epoch 00011: val_loss improved from 2.33121 to 2.20601, saving model to MejorPrueba_sin_Scaling.h5\n",
      "75/75 [==============================] - 0s 554us/sample - loss: 0.2829 - accuracy: 0.9067 - val_loss: 2.2060 - val_accuracy: 0.5600\n",
      "Epoch 12/100\n",
      "32/75 [===========>..................] - ETA: 0s - loss: 0.2208 - accuracy: 0.9062\n",
      "Epoch 00012: val_loss did not improve from 2.20601\n",
      "75/75 [==============================] - 0s 241us/sample - loss: 0.1921 - accuracy: 0.9333 - val_loss: 2.5990 - val_accuracy: 0.6000\n",
      "Epoch 13/100\n",
      "32/75 [===========>..................] - ETA: 0s - loss: 0.0781 - accuracy: 1.0000\n",
      "Epoch 00013: val_loss did not improve from 2.20601\n",
      "75/75 [==============================] - 0s 237us/sample - loss: 0.1952 - accuracy: 0.9600 - val_loss: 3.2997 - val_accuracy: 0.6000\n",
      "Epoch 14/100\n",
      "32/75 [===========>..................] - ETA: 0s - loss: 0.1268 - accuracy: 0.9688\n",
      "Epoch 00014: val_loss did not improve from 2.20601\n",
      "75/75 [==============================] - 0s 237us/sample - loss: 0.0896 - accuracy: 0.9867 - val_loss: 4.0249 - val_accuracy: 0.6000\n",
      "Epoch 15/100\n",
      "32/75 [===========>..................] - ETA: 0s - loss: 0.3828 - accuracy: 0.8750\n",
      "Epoch 00015: val_loss did not improve from 2.20601\n",
      "75/75 [==============================] - 0s 244us/sample - loss: 0.1929 - accuracy: 0.9467 - val_loss: 3.4261 - val_accuracy: 0.6000\n",
      "Epoch 16/100\n",
      "32/75 [===========>..................] - ETA: 0s - loss: 0.2153 - accuracy: 0.9375\n",
      "Epoch 00016: val_loss did not improve from 2.20601\n",
      "75/75 [==============================] - 0s 362us/sample - loss: 0.2583 - accuracy: 0.9467 - val_loss: 3.1928 - val_accuracy: 0.6800\n",
      "Epoch 17/100\n",
      "32/75 [===========>..................] - ETA: 0s - loss: 0.1226 - accuracy: 0.9688\n",
      "Epoch 00017: val_loss did not improve from 2.20601\n",
      "75/75 [==============================] - 0s 234us/sample - loss: 0.0673 - accuracy: 0.9867 - val_loss: 2.9348 - val_accuracy: 0.6800\n",
      "Epoch 18/100\n",
      "32/75 [===========>..................] - ETA: 0s - loss: 0.0959 - accuracy: 0.9688\n",
      "Epoch 00018: val_loss did not improve from 2.20601\n",
      "75/75 [==============================] - 0s 250us/sample - loss: 0.1219 - accuracy: 0.9600 - val_loss: 2.7867 - val_accuracy: 0.7200\n",
      "Epoch 19/100\n",
      "32/75 [===========>..................] - ETA: 0s - loss: 0.0715 - accuracy: 0.9688\n",
      "Epoch 00019: val_loss did not improve from 2.20601\n",
      "75/75 [==============================] - 0s 254us/sample - loss: 0.0633 - accuracy: 0.9733 - val_loss: 2.7654 - val_accuracy: 0.6800\n",
      "Epoch 20/100\n",
      "32/75 [===========>..................] - ETA: 0s - loss: 0.0741 - accuracy: 0.9688\n",
      "Epoch 00020: val_loss did not improve from 2.20601\n",
      "75/75 [==============================] - 0s 239us/sample - loss: 0.0552 - accuracy: 0.9867 - val_loss: 2.6959 - val_accuracy: 0.6800\n",
      "Epoch 21/100\n",
      "32/75 [===========>..................] - ETA: 0s - loss: 0.0080 - accuracy: 1.0000\n",
      "Epoch 00021: val_loss did not improve from 2.20601\n",
      "75/75 [==============================] - 0s 241us/sample - loss: 0.0643 - accuracy: 0.9867 - val_loss: 2.5532 - val_accuracy: 0.6800\n",
      "Epoch 22/100\n",
      "32/75 [===========>..................] - ETA: 0s - loss: 0.0446 - accuracy: 1.0000\n",
      "Epoch 00022: val_loss did not improve from 2.20601\n",
      "75/75 [==============================] - 0s 247us/sample - loss: 0.0387 - accuracy: 1.0000 - val_loss: 2.4147 - val_accuracy: 0.6800\n",
      "Epoch 23/100\n",
      "32/75 [===========>..................] - ETA: 0s - loss: 0.0204 - accuracy: 1.0000\n",
      "Epoch 00023: val_loss improved from 2.20601 to 2.19778, saving model to MejorPrueba_sin_Scaling.h5\n",
      "75/75 [==============================] - 0s 576us/sample - loss: 0.0813 - accuracy: 0.9600 - val_loss: 2.1978 - val_accuracy: 0.6800\n",
      "Epoch 24/100\n",
      "32/75 [===========>..................] - ETA: 0s - loss: 0.4209 - accuracy: 0.9688\n",
      "Epoch 00024: val_loss did not improve from 2.19778\n",
      "75/75 [==============================] - 0s 212us/sample - loss: 0.1966 - accuracy: 0.9867 - val_loss: 2.2044 - val_accuracy: 0.6800\n",
      "Epoch 25/100\n",
      "32/75 [===========>..................] - ETA: 0s - loss: 0.0089 - accuracy: 1.0000\n",
      "Epoch 00025: val_loss improved from 2.19778 to 2.14952, saving model to MejorPrueba_sin_Scaling.h5\n",
      "75/75 [==============================] - 0s 448us/sample - loss: 0.0153 - accuracy: 1.0000 - val_loss: 2.1495 - val_accuracy: 0.6400\n",
      "Epoch 26/100\n",
      "32/75 [===========>..................] - ETA: 0s - loss: 0.0799 - accuracy: 0.9688\n",
      "Epoch 00026: val_loss did not improve from 2.14952\n",
      "75/75 [==============================] - 0s 205us/sample - loss: 0.1321 - accuracy: 0.9467 - val_loss: 2.5046 - val_accuracy: 0.6800\n",
      "Epoch 27/100\n",
      "32/75 [===========>..................] - ETA: 0s - loss: 0.0249 - accuracy: 1.0000\n",
      "Epoch 00027: val_loss did not improve from 2.14952\n",
      "75/75 [==============================] - 0s 198us/sample - loss: 0.0556 - accuracy: 0.9867 - val_loss: 3.0173 - val_accuracy: 0.6800\n",
      "Epoch 28/100\n",
      "32/75 [===========>..................] - ETA: 0s - loss: 0.0563 - accuracy: 0.9688\n",
      "Epoch 00028: val_loss did not improve from 2.14952\n",
      "75/75 [==============================] - 0s 205us/sample - loss: 0.0372 - accuracy: 0.9867 - val_loss: 3.2289 - val_accuracy: 0.6000\n",
      "Epoch 29/100\n",
      "32/75 [===========>..................] - ETA: 0s - loss: 0.3007 - accuracy: 0.9375\n",
      "Epoch 00029: val_loss did not improve from 2.14952\n",
      "75/75 [==============================] - 0s 202us/sample - loss: 0.1364 - accuracy: 0.9733 - val_loss: 3.8770 - val_accuracy: 0.7200\n",
      "Epoch 30/100\n",
      "32/75 [===========>..................] - ETA: 0s - loss: 0.0298 - accuracy: 1.0000\n",
      "Epoch 00030: val_loss did not improve from 2.14952\n",
      "75/75 [==============================] - 0s 199us/sample - loss: 0.4281 - accuracy: 0.9867 - val_loss: 3.4986 - val_accuracy: 0.6800\n",
      "Epoch 31/100\n",
      "32/75 [===========>..................] - ETA: 0s - loss: 0.1472 - accuracy: 0.9688\n",
      "Epoch 00031: val_loss improved from 2.14952 to 1.94154, saving model to MejorPrueba_sin_Scaling.h5\n",
      "75/75 [==============================] - 0s 537us/sample - loss: 0.1126 - accuracy: 0.9600 - val_loss: 1.9415 - val_accuracy: 0.6800\n",
      "Epoch 32/100\n",
      "32/75 [===========>..................] - ETA: 0s - loss: 0.0547 - accuracy: 0.9688\n",
      "Epoch 00032: val_loss improved from 1.94154 to 1.76763, saving model to MejorPrueba_sin_Scaling.h5\n",
      "75/75 [==============================] - 0s 431us/sample - loss: 0.0325 - accuracy: 0.9867 - val_loss: 1.7676 - val_accuracy: 0.6800\n",
      "Epoch 33/100\n",
      "32/75 [===========>..................] - ETA: 0s - loss: 0.0488 - accuracy: 0.9688\n",
      "Epoch 00033: val_loss improved from 1.76763 to 1.74684, saving model to MejorPrueba_sin_Scaling.h5\n",
      "75/75 [==============================] - 0s 433us/sample - loss: 0.0410 - accuracy: 0.9733 - val_loss: 1.7468 - val_accuracy: 0.6800\n",
      "Epoch 34/100\n",
      "32/75 [===========>..................] - ETA: 0s - loss: 0.2154 - accuracy: 0.9375\n",
      "Epoch 00034: val_loss improved from 1.74684 to 1.44428, saving model to MejorPrueba_sin_Scaling.h5\n",
      "75/75 [==============================] - 0s 438us/sample - loss: 0.0969 - accuracy: 0.9733 - val_loss: 1.4443 - val_accuracy: 0.6800\n",
      "Epoch 35/100\n",
      "32/75 [===========>..................] - ETA: 0s - loss: 0.2294 - accuracy: 0.9688\n",
      "Epoch 00035: val_loss improved from 1.44428 to 1.23029, saving model to MejorPrueba_sin_Scaling.h5\n",
      "75/75 [==============================] - 0s 425us/sample - loss: 0.1263 - accuracy: 0.9733 - val_loss: 1.2303 - val_accuracy: 0.7600\n",
      "Epoch 36/100\n",
      "32/75 [===========>..................] - ETA: 0s - loss: 0.0308 - accuracy: 1.0000\n",
      "Epoch 00036: val_loss improved from 1.23029 to 0.90535, saving model to MejorPrueba_sin_Scaling.h5\n",
      "75/75 [==============================] - 0s 440us/sample - loss: 0.0629 - accuracy: 0.9867 - val_loss: 0.9054 - val_accuracy: 0.8000\n",
      "Epoch 37/100\n",
      "32/75 [===========>..................] - ETA: 0s - loss: 0.0114 - accuracy: 1.0000\n",
      "Epoch 00037: val_loss improved from 0.90535 to 0.70528, saving model to MejorPrueba_sin_Scaling.h5\n",
      "75/75 [==============================] - 0s 447us/sample - loss: 0.0087 - accuracy: 1.0000 - val_loss: 0.7053 - val_accuracy: 0.8000\n",
      "Epoch 38/100\n",
      "32/75 [===========>..................] - ETA: 0s - loss: 0.0010 - accuracy: 1.0000\n",
      "Epoch 00038: val_loss improved from 0.70528 to 0.60302, saving model to MejorPrueba_sin_Scaling.h5\n",
      "75/75 [==============================] - 0s 436us/sample - loss: 0.0057 - accuracy: 1.0000 - val_loss: 0.6030 - val_accuracy: 0.8000\n",
      "Epoch 39/100\n",
      "32/75 [===========>..................] - ETA: 0s - loss: 0.0073 - accuracy: 1.0000\n",
      "Epoch 00039: val_loss did not improve from 0.60302\n",
      "75/75 [==============================] - 0s 221us/sample - loss: 0.0058 - accuracy: 1.0000 - val_loss: 0.8115 - val_accuracy: 0.8000\n",
      "Epoch 40/100\n",
      "32/75 [===========>..................] - ETA: 0s - loss: 1.3209e-04 - accuracy: 1.0000\n",
      "Epoch 00040: val_loss did not improve from 0.60302\n",
      "75/75 [==============================] - 0s 193us/sample - loss: 0.5482 - accuracy: 0.9867 - val_loss: 2.9906 - val_accuracy: 0.7600\n",
      "Epoch 41/100\n",
      "32/75 [===========>..................] - ETA: 0s - loss: 0.0014 - accuracy: 1.0000\n",
      "Epoch 00041: val_loss did not improve from 0.60302\n",
      "75/75 [==============================] - 0s 188us/sample - loss: 0.0048 - accuracy: 1.0000 - val_loss: 5.4345 - val_accuracy: 0.6400\n",
      "Epoch 42/100\n",
      "32/75 [===========>..................] - ETA: 0s - loss: 0.0021 - accuracy: 1.0000\n",
      "Epoch 00042: val_loss did not improve from 0.60302\n",
      "75/75 [==============================] - 0s 208us/sample - loss: 0.1610 - accuracy: 0.9867 - val_loss: 5.0730 - val_accuracy: 0.6400\n",
      "Epoch 43/100\n",
      "32/75 [===========>..................] - ETA: 0s - loss: 0.0734 - accuracy: 0.9688\n",
      "Epoch 00043: val_loss did not improve from 0.60302\n",
      "75/75 [==============================] - 0s 200us/sample - loss: 0.0324 - accuracy: 0.9867 - val_loss: 4.1050 - val_accuracy: 0.6400\n",
      "Epoch 44/100\n",
      "32/75 [===========>..................] - ETA: 0s - loss: 0.0037 - accuracy: 1.0000\n",
      "Epoch 00044: val_loss did not improve from 0.60302\n",
      "75/75 [==============================] - 0s 197us/sample - loss: 0.1162 - accuracy: 0.9867 - val_loss: 4.2513 - val_accuracy: 0.6400\n",
      "Epoch 45/100\n",
      "32/75 [===========>..................] - ETA: 0s - loss: 0.1726 - accuracy: 0.9688\n",
      "Epoch 00045: val_loss did not improve from 0.60302\n",
      "75/75 [==============================] - 0s 208us/sample - loss: 0.0845 - accuracy: 0.9867 - val_loss: 3.3316 - val_accuracy: 0.7200\n",
      "Epoch 46/100\n",
      "32/75 [===========>..................] - ETA: 0s - loss: 0.1018 - accuracy: 0.9688\n",
      "Epoch 00046: val_loss did not improve from 0.60302\n",
      "75/75 [==============================] - 0s 203us/sample - loss: 0.2136 - accuracy: 0.9600 - val_loss: 2.7839 - val_accuracy: 0.6800\n",
      "Epoch 47/100\n",
      "32/75 [===========>..................] - ETA: 0s - loss: 0.3435 - accuracy: 0.9688\n",
      "Epoch 00047: val_loss did not improve from 0.60302\n",
      "75/75 [==============================] - 0s 217us/sample - loss: 0.1496 - accuracy: 0.9867 - val_loss: 1.8481 - val_accuracy: 0.7200\n",
      "Epoch 48/100\n",
      "32/75 [===========>..................] - ETA: 0s - loss: 0.0352 - accuracy: 1.0000\n",
      "Epoch 00048: val_loss did not improve from 0.60302\n",
      "75/75 [==============================] - 0s 244us/sample - loss: 0.1168 - accuracy: 0.9867 - val_loss: 1.5142 - val_accuracy: 0.8000\n",
      "Epoch 49/100\n",
      "32/75 [===========>..................] - ETA: 0s - loss: 0.0169 - accuracy: 1.0000\n",
      "Epoch 00049: val_loss did not improve from 0.60302\n",
      "75/75 [==============================] - 0s 269us/sample - loss: 0.0326 - accuracy: 1.0000 - val_loss: 1.3874 - val_accuracy: 0.7600\n",
      "Epoch 50/100\n",
      "32/75 [===========>..................] - ETA: 0s - loss: 0.0113 - accuracy: 1.0000\n",
      "Epoch 00050: val_loss did not improve from 0.60302\n",
      "75/75 [==============================] - 0s 298us/sample - loss: 0.0155 - accuracy: 1.0000 - val_loss: 1.3281 - val_accuracy: 0.7600\n",
      "Epoch 51/100\n",
      "32/75 [===========>..................] - ETA: 0s - loss: 0.2864 - accuracy: 0.9375\n",
      "Epoch 00051: val_loss did not improve from 0.60302\n",
      "75/75 [==============================] - 0s 299us/sample - loss: 0.1843 - accuracy: 0.9600 - val_loss: 1.5484 - val_accuracy: 0.7600\n",
      "Epoch 52/100\n",
      "32/75 [===========>..................] - ETA: 0s - loss: 0.0042 - accuracy: 1.0000\n",
      "Epoch 00052: val_loss did not improve from 0.60302\n",
      "75/75 [==============================] - 0s 324us/sample - loss: 0.0049 - accuracy: 1.0000 - val_loss: 1.7109 - val_accuracy: 0.7600\n",
      "Epoch 53/100\n",
      "32/75 [===========>..................] - ETA: 0s - loss: 0.0032 - accuracy: 1.0000\n",
      "Epoch 00053: val_loss did not improve from 0.60302\n",
      "75/75 [==============================] - 0s 300us/sample - loss: 0.0683 - accuracy: 0.9867 - val_loss: 1.8296 - val_accuracy: 0.7200\n",
      "Epoch 54/100\n",
      "32/75 [===========>..................] - ETA: 0s - loss: 0.0067 - accuracy: 1.0000\n",
      "Epoch 00054: val_loss did not improve from 0.60302\n",
      "75/75 [==============================] - 0s 306us/sample - loss: 0.0036 - accuracy: 1.0000 - val_loss: 2.5751 - val_accuracy: 0.6400\n",
      "Epoch 55/100\n",
      "32/75 [===========>..................] - ETA: 0s - loss: 0.0045 - accuracy: 1.0000\n",
      "Epoch 00055: val_loss did not improve from 0.60302\n",
      "75/75 [==============================] - 0s 297us/sample - loss: 0.0365 - accuracy: 0.9867 - val_loss: 3.0467 - val_accuracy: 0.6400\n",
      "Epoch 56/100\n",
      "32/75 [===========>..................] - ETA: 0s - loss: 0.2109 - accuracy: 0.9688\n",
      "Epoch 00056: val_loss did not improve from 0.60302\n",
      "75/75 [==============================] - 0s 363us/sample - loss: 0.0913 - accuracy: 0.9867 - val_loss: 2.3351 - val_accuracy: 0.6800\n",
      "Epoch 57/100\n",
      "32/75 [===========>..................] - ETA: 0s - loss: 0.0125 - accuracy: 1.0000\n",
      "Epoch 00057: val_loss did not improve from 0.60302\n",
      "75/75 [==============================] - 0s 309us/sample - loss: 0.0452 - accuracy: 0.9867 - val_loss: 1.6663 - val_accuracy: 0.7200\n",
      "Epoch 58/100\n",
      "32/75 [===========>..................] - ETA: 0s - loss: 1.7132e-04 - accuracy: 1.0000\n",
      "Epoch 00058: val_loss did not improve from 0.60302\n",
      "75/75 [==============================] - 0s 299us/sample - loss: 0.0120 - accuracy: 1.0000 - val_loss: 1.1630 - val_accuracy: 0.7200\n",
      "Epoch 59/100\n",
      "32/75 [===========>..................] - ETA: 0s - loss: 0.0187 - accuracy: 1.0000\n",
      "Epoch 00059: val_loss did not improve from 0.60302\n",
      "75/75 [==============================] - 0s 302us/sample - loss: 0.0100 - accuracy: 1.0000 - val_loss: 0.9665 - val_accuracy: 0.7600\n",
      "Epoch 60/100\n",
      "32/75 [===========>..................] - ETA: 0s - loss: 0.0045 - accuracy: 1.0000\n",
      "Epoch 00060: val_loss did not improve from 0.60302\n",
      "75/75 [==============================] - 0s 309us/sample - loss: 0.0036 - accuracy: 1.0000 - val_loss: 0.8622 - val_accuracy: 0.8000\n",
      "Epoch 61/100\n",
      "32/75 [===========>..................] - ETA: 0s - loss: 0.0213 - accuracy: 1.0000\n",
      "Epoch 00061: val_loss did not improve from 0.60302\n",
      "75/75 [==============================] - 0s 295us/sample - loss: 0.1268 - accuracy: 0.9600 - val_loss: 0.9422 - val_accuracy: 0.8400\n",
      "Epoch 62/100\n",
      "32/75 [===========>..................] - ETA: 0s - loss: 1.1100e-04 - accuracy: 1.0000\n",
      "Epoch 00062: val_loss did not improve from 0.60302\n",
      "75/75 [==============================] - 0s 289us/sample - loss: 0.0047 - accuracy: 1.0000 - val_loss: 1.0949 - val_accuracy: 0.8000\n",
      "Epoch 63/100\n",
      "32/75 [===========>..................] - ETA: 0s - loss: 2.0721e-04 - accuracy: 1.0000\n",
      "Epoch 00063: val_loss did not improve from 0.60302\n",
      "75/75 [==============================] - 0s 296us/sample - loss: 0.0013 - accuracy: 1.0000 - val_loss: 1.2708 - val_accuracy: 0.7600\n",
      "Epoch 64/100\n",
      "32/75 [===========>..................] - ETA: 0s - loss: 0.0035 - accuracy: 1.0000\n",
      "Epoch 00064: val_loss did not improve from 0.60302\n",
      "75/75 [==============================] - 0s 298us/sample - loss: 0.0019 - accuracy: 1.0000 - val_loss: 1.4354 - val_accuracy: 0.7200\n",
      "Epoch 65/100\n",
      "32/75 [===========>..................] - ETA: 0s - loss: 0.0040 - accuracy: 1.0000\n",
      "Epoch 00065: val_loss did not improve from 0.60302\n",
      "75/75 [==============================] - 0s 296us/sample - loss: 0.0029 - accuracy: 1.0000 - val_loss: 1.7487 - val_accuracy: 0.7200\n",
      "Epoch 66/100\n",
      "32/75 [===========>..................] - ETA: 0s - loss: 8.2944e-04 - accuracy: 1.0000\n",
      "Epoch 00066: val_loss did not improve from 0.60302\n",
      "75/75 [==============================] - 0s 296us/sample - loss: 0.0015 - accuracy: 1.0000 - val_loss: 1.9546 - val_accuracy: 0.7200\n",
      "Epoch 67/100\n",
      "32/75 [===========>..................] - ETA: 0s - loss: 0.2198 - accuracy: 0.9688\n",
      "Epoch 00067: val_loss did not improve from 0.60302\n",
      "75/75 [==============================] - 0s 287us/sample - loss: 0.1189 - accuracy: 0.9733 - val_loss: 1.3760 - val_accuracy: 0.8000\n",
      "Epoch 68/100\n",
      "32/75 [===========>..................] - ETA: 0s - loss: 2.0703e-05 - accuracy: 1.0000\n",
      "Epoch 00068: val_loss did not improve from 0.60302\n",
      "75/75 [==============================] - 0s 299us/sample - loss: 0.0034 - accuracy: 1.0000 - val_loss: 1.2199 - val_accuracy: 0.8000\n",
      "Epoch 69/100\n",
      "32/75 [===========>..................] - ETA: 0s - loss: 0.0018 - accuracy: 1.0000\n",
      "Epoch 00069: val_loss did not improve from 0.60302\n",
      "75/75 [==============================] - 0s 297us/sample - loss: 0.0017 - accuracy: 1.0000 - val_loss: 1.2901 - val_accuracy: 0.8000\n",
      "Epoch 70/100\n",
      "32/75 [===========>..................] - ETA: 0s - loss: 1.7454e-04 - accuracy: 1.0000\n",
      "Epoch 00070: val_loss did not improve from 0.60302\n",
      "75/75 [==============================] - 0s 298us/sample - loss: 0.0018 - accuracy: 1.0000 - val_loss: 1.3023 - val_accuracy: 0.7600\n",
      "Epoch 71/100\n",
      "32/75 [===========>..................] - ETA: 0s - loss: 2.3880e-04 - accuracy: 1.0000\n",
      "Epoch 00071: val_loss did not improve from 0.60302\n",
      "75/75 [==============================] - 0s 302us/sample - loss: 0.0039 - accuracy: 1.0000 - val_loss: 1.2816 - val_accuracy: 0.7600\n",
      "Epoch 72/100\n",
      "32/75 [===========>..................] - ETA: 0s - loss: 0.1247 - accuracy: 0.9688\n",
      "Epoch 00072: val_loss did not improve from 0.60302\n",
      "75/75 [==============================] - 0s 299us/sample - loss: 0.0568 - accuracy: 0.9867 - val_loss: 1.0420 - val_accuracy: 0.8000\n",
      "Epoch 73/100\n",
      "32/75 [===========>..................] - ETA: 0s - loss: 0.0011 - accuracy: 1.0000\n",
      "Epoch 00073: val_loss did not improve from 0.60302\n",
      "75/75 [==============================] - 0s 298us/sample - loss: 5.5582e-04 - accuracy: 1.0000 - val_loss: 1.1028 - val_accuracy: 0.8800\n",
      "Epoch 74/100\n",
      "32/75 [===========>..................] - ETA: 0s - loss: 3.2539e-04 - accuracy: 1.0000\n",
      "Epoch 00074: val_loss did not improve from 0.60302\n",
      "75/75 [==============================] - 0s 294us/sample - loss: 3.3120e-04 - accuracy: 1.0000 - val_loss: 1.1560 - val_accuracy: 0.8800\n",
      "Epoch 75/100\n",
      "32/75 [===========>..................] - ETA: 0s - loss: 8.3165e-05 - accuracy: 1.0000\n",
      "Epoch 00075: val_loss did not improve from 0.60302\n",
      "75/75 [==============================] - 0s 293us/sample - loss: 0.0036 - accuracy: 1.0000 - val_loss: 1.1942 - val_accuracy: 0.8800\n",
      "Epoch 76/100\n",
      "32/75 [===========>..................] - ETA: 0s - loss: 8.1626e-04 - accuracy: 1.0000\n",
      "Epoch 00076: val_loss did not improve from 0.60302\n",
      "75/75 [==============================] - 0s 288us/sample - loss: 4.4888e-04 - accuracy: 1.0000 - val_loss: 1.2254 - val_accuracy: 0.8800\n",
      "Epoch 77/100\n",
      "32/75 [===========>..................] - ETA: 0s - loss: 5.6019e-05 - accuracy: 1.0000\n",
      "Epoch 00077: val_loss did not improve from 0.60302\n",
      "75/75 [==============================] - 0s 293us/sample - loss: 1.4502e-04 - accuracy: 1.0000 - val_loss: 1.2479 - val_accuracy: 0.8800\n",
      "Epoch 78/100\n",
      "32/75 [===========>..................] - ETA: 0s - loss: 0.2357 - accuracy: 0.9688\n",
      "Epoch 00078: val_loss did not improve from 0.60302\n",
      "75/75 [==============================] - 0s 303us/sample - loss: 0.1009 - accuracy: 0.9867 - val_loss: 1.8960 - val_accuracy: 0.7200\n",
      "Epoch 79/100\n",
      "32/75 [===========>..................] - ETA: 0s - loss: 0.0012 - accuracy: 1.0000\n",
      "Epoch 00079: val_loss did not improve from 0.60302\n",
      "75/75 [==============================] - 0s 288us/sample - loss: 7.1433e-04 - accuracy: 1.0000 - val_loss: 3.2516 - val_accuracy: 0.7200\n",
      "Epoch 80/100\n",
      "32/75 [===========>..................] - ETA: 0s - loss: 0.0014 - accuracy: 1.0000\n",
      "Epoch 00080: val_loss did not improve from 0.60302\n",
      "75/75 [==============================] - 0s 297us/sample - loss: 8.0344e-04 - accuracy: 1.0000 - val_loss: 4.2468 - val_accuracy: 0.7200\n",
      "Epoch 81/100\n",
      "32/75 [===========>..................] - ETA: 0s - loss: 6.0919e-04 - accuracy: 1.0000\n",
      "Epoch 00081: val_loss did not improve from 0.60302\n",
      "75/75 [==============================] - 0s 285us/sample - loss: 4.0328e-04 - accuracy: 1.0000 - val_loss: 4.9229 - val_accuracy: 0.7200\n",
      "Epoch 82/100\n",
      "32/75 [===========>..................] - ETA: 0s - loss: 8.8578e-04 - accuracy: 1.0000\n",
      "Epoch 00082: val_loss did not improve from 0.60302\n",
      "75/75 [==============================] - 0s 300us/sample - loss: 0.0020 - accuracy: 1.0000 - val_loss: 5.3978 - val_accuracy: 0.6800\n",
      "Epoch 83/100\n",
      "32/75 [===========>..................] - ETA: 0s - loss: 0.0023 - accuracy: 1.0000\n",
      "Epoch 00083: val_loss did not improve from 0.60302\n",
      "75/75 [==============================] - 0s 295us/sample - loss: 0.0351 - accuracy: 0.9867 - val_loss: 1.1895 - val_accuracy: 0.7600\n",
      "Epoch 84/100\n",
      "32/75 [===========>..................] - ETA: 0s - loss: 1.1241e-04 - accuracy: 1.0000\n",
      "Epoch 00084: val_loss did not improve from 0.60302\n",
      "75/75 [==============================] - 0s 290us/sample - loss: 2.4336e-04 - accuracy: 1.0000 - val_loss: 1.8857 - val_accuracy: 0.8000\n",
      "Epoch 85/100\n",
      "32/75 [===========>..................] - ETA: 0s - loss: 0.0261 - accuracy: 1.0000\n",
      "Epoch 00085: val_loss did not improve from 0.60302\n",
      "75/75 [==============================] - 0s 383us/sample - loss: 0.0140 - accuracy: 1.0000 - val_loss: 2.7433 - val_accuracy: 0.7200\n",
      "Epoch 86/100\n",
      "32/75 [===========>..................] - ETA: 0s - loss: 0.4098 - accuracy: 0.9375\n",
      "Epoch 00086: val_loss did not improve from 0.60302\n",
      "75/75 [==============================] - 0s 301us/sample - loss: 0.4291 - accuracy: 0.9467 - val_loss: 1.9155 - val_accuracy: 0.7600\n",
      "Epoch 87/100\n",
      "32/75 [===========>..................] - ETA: 0s - loss: 0.1418 - accuracy: 0.9688\n",
      "Epoch 00087: val_loss did not improve from 0.60302\n",
      "75/75 [==============================] - 0s 295us/sample - loss: 0.2178 - accuracy: 0.9733 - val_loss: 2.0265 - val_accuracy: 0.8000\n",
      "Epoch 88/100\n",
      "32/75 [===========>..................] - ETA: 0s - loss: 0.0878 - accuracy: 0.9688\n",
      "Epoch 00088: val_loss did not improve from 0.60302\n",
      "75/75 [==============================] - 0s 295us/sample - loss: 0.0434 - accuracy: 0.9867 - val_loss: 2.3582 - val_accuracy: 0.8000\n",
      "Epoch 89/100\n",
      "32/75 [===========>..................] - ETA: 0s - loss: 0.0102 - accuracy: 1.0000\n",
      "Epoch 00089: val_loss did not improve from 0.60302\n",
      "75/75 [==============================] - 0s 284us/sample - loss: 0.0092 - accuracy: 1.0000 - val_loss: 2.4891 - val_accuracy: 0.7600\n",
      "Epoch 90/100\n",
      "32/75 [===========>..................] - ETA: 0s - loss: 0.0442 - accuracy: 0.9688\n",
      "Epoch 00090: val_loss did not improve from 0.60302\n",
      "75/75 [==============================] - 0s 293us/sample - loss: 0.0530 - accuracy: 0.9733 - val_loss: 2.8316 - val_accuracy: 0.6400\n",
      "Epoch 91/100\n",
      "32/75 [===========>..................] - ETA: 0s - loss: 0.0294 - accuracy: 1.0000\n",
      "Epoch 00091: val_loss did not improve from 0.60302\n",
      "75/75 [==============================] - 0s 295us/sample - loss: 0.0207 - accuracy: 1.0000 - val_loss: 3.8452 - val_accuracy: 0.6000\n",
      "Epoch 92/100\n",
      "32/75 [===========>..................] - ETA: 0s - loss: 0.0388 - accuracy: 0.9688\n",
      "Epoch 00092: val_loss did not improve from 0.60302\n",
      "75/75 [==============================] - 0s 298us/sample - loss: 1.3760 - accuracy: 0.9733 - val_loss: 2.2528 - val_accuracy: 0.6400\n",
      "Epoch 93/100\n",
      "32/75 [===========>..................] - ETA: 0s - loss: 0.1081 - accuracy: 0.9688\n",
      "Epoch 00093: val_loss did not improve from 0.60302\n",
      "75/75 [==============================] - 0s 292us/sample - loss: 0.0481 - accuracy: 0.9867 - val_loss: 2.1252 - val_accuracy: 0.7600\n",
      "Epoch 94/100\n",
      "32/75 [===========>..................] - ETA: 0s - loss: 1.0474 - accuracy: 0.9375\n",
      "Epoch 00094: val_loss did not improve from 0.60302\n",
      "75/75 [==============================] - 0s 299us/sample - loss: 0.8820 - accuracy: 0.9333 - val_loss: 2.4914 - val_accuracy: 0.7200\n",
      "Epoch 95/100\n",
      "32/75 [===========>..................] - ETA: 0s - loss: 1.3693 - accuracy: 0.8750\n",
      "Epoch 00095: val_loss did not improve from 0.60302\n",
      "75/75 [==============================] - 0s 293us/sample - loss: 0.6598 - accuracy: 0.9200 - val_loss: 1.8432 - val_accuracy: 0.7600\n",
      "Epoch 96/100\n",
      "32/75 [===========>..................] - ETA: 0s - loss: 0.2577 - accuracy: 0.9375\n",
      "Epoch 00096: val_loss did not improve from 0.60302\n",
      "75/75 [==============================] - 0s 288us/sample - loss: 0.1177 - accuracy: 0.9733 - val_loss: 1.1935 - val_accuracy: 0.6800\n",
      "Epoch 97/100\n",
      "32/75 [===========>..................] - ETA: 0s - loss: 0.0475 - accuracy: 0.9688\n",
      "Epoch 00097: val_loss did not improve from 0.60302\n",
      "75/75 [==============================] - 0s 298us/sample - loss: 0.0227 - accuracy: 0.9867 - val_loss: 1.2788 - val_accuracy: 0.7200\n",
      "Epoch 98/100\n",
      "32/75 [===========>..................] - ETA: 0s - loss: 0.0053 - accuracy: 1.0000\n",
      "Epoch 00098: val_loss did not improve from 0.60302\n",
      "75/75 [==============================] - 0s 295us/sample - loss: 0.0084 - accuracy: 1.0000 - val_loss: 1.6261 - val_accuracy: 0.6800\n",
      "Epoch 99/100\n",
      "32/75 [===========>..................] - ETA: 0s - loss: 0.0308 - accuracy: 0.9688\n",
      "Epoch 00099: val_loss did not improve from 0.60302\n",
      "75/75 [==============================] - 0s 288us/sample - loss: 0.0147 - accuracy: 0.9867 - val_loss: 1.8613 - val_accuracy: 0.6800\n",
      "Epoch 100/100\n",
      "32/75 [===========>..................] - ETA: 0s - loss: 0.0414 - accuracy: 0.9688\n",
      "Epoch 00100: val_loss did not improve from 0.60302\n",
      "75/75 [==============================] - 0s 289us/sample - loss: 0.0196 - accuracy: 0.9867 - val_loss: 2.0256 - val_accuracy: 0.6800\n"
     ]
    }
   ],
   "source": [
    "history = model.fit(x_train,y_train, epochs= 100, validation_data=(x_val,y_val),callbacks=[checkpoint])\n",
    "data = (x_val, y_val)"
   ]
  },
  {
   "cell_type": "code",
   "execution_count": 151,
   "metadata": {},
   "outputs": [
    {
     "name": "stdout",
     "output_type": "stream",
     "text": [
      "[4 4 0 4 0 4 4 4 4 4]\n",
      "[2. 0. 3. 3. 4. 0. 1. 2. 3. 3.]\n",
      "(10, 427, 16)\n"
     ]
    }
   ],
   "source": [
    "class_pred = model.predict(x_test, batch_size=32)\n",
    "class_pred = np.argmax(class_pred, axis=1)\n",
    "print(class_pred)\n",
    "print(y_test)\n",
    "confusion_matrix(y_test, class_pred)\n",
    "print(x_test.shape)"
   ]
  },
  {
   "cell_type": "code",
   "execution_count": 178,
   "metadata": {},
   "outputs": [],
   "source": [
    "model.save_weights(\"pesos1.h5\")"
   ]
  },
  {
   "cell_type": "code",
   "execution_count": 146,
   "metadata": {},
   "outputs": [
    {
     "data": {
      "image/png": "[encoded data removed]",
      "text/plain": [
       "<Figure size 288x288 with 2 Axes>"
      ]
     },
     "metadata": {
      "needs_background": "light"
     },
     "output_type": "display_data"
    }
   ],
   "source": [
    "from sklearn.metrics import confusion_matrix\n",
    "mat = confusion_matrix(y_test,class_pred)\n",
    "mat = mat/np.max(mat,axis=0) #normaliza\n",
    "plt.matshow(mat)\n",
    "plt.colorbar()\n",
    "plt.xlabel(\"True\")\n",
    "plt.ylabel(\"Predicted\")\n",
    "plt.show()"
   ]
  },
  {
   "cell_type": "code",
   "execution_count": 147,
   "metadata": {},
   "outputs": [
    {
     "data": {
      "text/plain": [
       "array([[14,  0,  0,  0,  0],\n",
       "       [ 0, 14,  0,  0,  0],\n",
       "       [ 0,  0, 17,  0,  0],\n",
       "       [ 0,  0,  0, 17,  0],\n",
       "       [ 0,  0,  0,  0, 13]])"
      ]
     },
     "execution_count": 147,
     "metadata": {},
     "output_type": "execute_result"
    }
   ],
   "source": [
    "class_pred = model.predict(x_train, batch_size=32)\n",
    "class_pred = np.argmax(class_pred, axis=1)\n",
    "confusion_matrix(y_train, class_pred)"
   ]
  },
  {
   "cell_type": "code",
   "execution_count": 148,
   "metadata": {},
   "outputs": [
    {
     "data": {
      "image/png": "[encoded data removed]",
      "text/plain": [
       "<Figure size 288x288 with 2 Axes>"
      ]
     },
     "metadata": {
      "needs_background": "light"
     },
     "output_type": "display_data"
    }
   ],
   "source": [
    "mat = confusion_matrix(y_train,class_pred)\n",
    "mat = mat/np.max(mat,axis=0) #normaliza\n",
    "plt.matshow(mat)\n",
    "plt.colorbar()\n",
    "plt.xlabel(\"True\")\n",
    "plt.ylabel(\"Predicted\")\n",
    "plt.show()"
   ]
  },
  {
   "cell_type": "code",
   "execution_count": 149,
   "metadata": {},
   "outputs": [
    {
     "ename": "NameError",
     "evalue": "name 'MLPClassifier' is not defined",
     "output_type": "error",
     "traceback": [
      "\u001b[0;31m---------------------------------------------------------------------------\u001b[0m",
      "\u001b[0;31mNameError\u001b[0m                                 Traceback (most recent call last)",
      "\u001b[0;32m<ipython-input-149-4d19fb7bb89e>\u001b[0m in \u001b[0;36m<module>\u001b[0;34m\u001b[0m\n\u001b[0;32m----> 1\u001b[0;31m clf = MLPClassifier(activation = 'relu',hidden_layer_sizes=(200,190), max_iter=1000, alpha=1e-5,\n\u001b[0m\u001b[1;32m      2\u001b[0m                     \u001b[0msolver\u001b[0m\u001b[0;34m=\u001b[0m\u001b[0;34m'adam'\u001b[0m\u001b[0;34m,\u001b[0m \u001b[0mverbose\u001b[0m\u001b[0;34m=\u001b[0m\u001b[0;36m0\u001b[0m\u001b[0;34m,\u001b[0m \u001b[0mrandom_state\u001b[0m\u001b[0;34m=\u001b[0m\u001b[0;36m1\u001b[0m\u001b[0;34m,\u001b[0m\u001b[0;34m\u001b[0m\u001b[0;34m\u001b[0m\u001b[0m\n\u001b[1;32m      3\u001b[0m                     learning_rate_init=.01)\n\u001b[1;32m      4\u001b[0m \u001b[0mclf\u001b[0m\u001b[0;34m.\u001b[0m\u001b[0mfit\u001b[0m\u001b[0;34m(\u001b[0m\u001b[0mtrain\u001b[0m\u001b[0;34m.\u001b[0m\u001b[0miloc\u001b[0m\u001b[0;34m[\u001b[0m\u001b[0;34m:\u001b[0m\u001b[0;34m,\u001b[0m\u001b[0;36m2\u001b[0m\u001b[0;34m:\u001b[0m\u001b[0;36m18\u001b[0m\u001b[0;34m]\u001b[0m\u001b[0;34m,\u001b[0m \u001b[0mtrain\u001b[0m\u001b[0;34m.\u001b[0m\u001b[0miloc\u001b[0m\u001b[0;34m[\u001b[0m\u001b[0;34m:\u001b[0m\u001b[0;34m,\u001b[0m\u001b[0;36m19\u001b[0m\u001b[0;34m]\u001b[0m\u001b[0;34m)\u001b[0m\u001b[0;34m\u001b[0m\u001b[0;34m\u001b[0m\u001b[0m\n\u001b[1;32m      5\u001b[0m \u001b[0mprint\u001b[0m\u001b[0;34m(\u001b[0m\u001b[0;34m\"Test set score: %f\"\u001b[0m \u001b[0;34m%\u001b[0m \u001b[0mclf\u001b[0m\u001b[0;34m.\u001b[0m\u001b[0mscore\u001b[0m\u001b[0;34m(\u001b[0m\u001b[0mtest\u001b[0m\u001b[0;34m.\u001b[0m\u001b[0miloc\u001b[0m\u001b[0;34m[\u001b[0m\u001b[0;34m:\u001b[0m\u001b[0;34m,\u001b[0m\u001b[0;36m2\u001b[0m\u001b[0;34m:\u001b[0m\u001b[0;36m18\u001b[0m\u001b[0;34m]\u001b[0m\u001b[0;34m,\u001b[0m \u001b[0mtest\u001b[0m\u001b[0;34m.\u001b[0m\u001b[0miloc\u001b[0m\u001b[0;34m[\u001b[0m\u001b[0;34m:\u001b[0m\u001b[0;34m,\u001b[0m\u001b[0;36m19\u001b[0m\u001b[0;34m]\u001b[0m\u001b[0;34m)\u001b[0m\u001b[0;34m)\u001b[0m\u001b[0;34m\u001b[0m\u001b[0;34m\u001b[0m\u001b[0m\n",
      "\u001b[0;31mNameError\u001b[0m: name 'MLPClassifier' is not defined"
     ]
    }
   ],
   "source": [
    "clf = MLPClassifier(activation = 'relu',hidden_layer_sizes=(200,190), max_iter=1000, alpha=1e-5,\n",
    "                    solver='adam', verbose=0, random_state=1,\n",
    "                    learning_rate_init=.01)\n",
    "clf.fit(train.iloc[:,2:18], train.iloc[:,19])\n",
    "print(\"Test set score: %f\" % clf.score(test.iloc[:,2:18], test.iloc[:,19]))\n",
    "print(\"Training set score: %f\" % clf.score(train.iloc[:,2:18], train.iloc[:,19]))\n",
    "fig, axs = plt.subplots(ncols=2, sharey=True, figsize=(7, 4))\n",
    "fig.subplots_adjust(hspace=0.5, left=0.07, right=0.93)\n",
    "\n",
    "ax1=plot_confusion_matrix(clf,test.iloc[:,2:18], test.iloc[:,19],cmap='Blues',values_format='d',ax=axs[0])\n",
    "ax2=plot_confusion_matrix(clf,train.iloc[:,2:18], train.iloc[:,19],cmap='Blues',values_format='d',ax=axs[1])"
   ]
  },
  {
   "cell_type": "code",
   "execution_count": 172,
   "metadata": {},
   "outputs": [],
   "source": [
    "features=[]\n",
    "df = pd.read_csv(\"/home/ivandanielvillegas/work/Entrenamiento/Datos/Paciente_ID_cristian/Gesto_5/Datos_CSV_ULTRACORTEX/datos_1.csv\",encoding='ISO-8859-1', skiprows = 2,sep=';')\n",
    "features.append(df.iloc[90:517,0:16].values)"
   ]
  },
  {
   "cell_type": "code",
   "execution_count": 173,
   "metadata": {},
   "outputs": [
    {
     "name": "stdout",
     "output_type": "stream",
     "text": [
      "(427, 16)\n",
      "(1, 427, 16)\n"
     ]
    }
   ],
   "source": [
    "print(features[0].shape)\n",
    "features= np.expand_dims(features[0],0)\n",
    "print(features.shape)"
   ]
  },
  {
   "cell_type": "code",
   "execution_count": 174,
   "metadata": {},
   "outputs": [],
   "source": [
    "class_pred = model.predict(features, batch_size=32)\n",
    "class_pred = np.argmax(class_pred, axis=1)"
   ]
  },
  {
   "cell_type": "code",
   "execution_count": 175,
   "metadata": {},
   "outputs": [
    {
     "name": "stdout",
     "output_type": "stream",
     "text": [
      "[4]\n"
     ]
    }
   ],
   "source": [
    "print(class_pred)"
   ]
  },
  {
   "cell_type": "code",
   "execution_count": null,
   "metadata": {},
   "outputs": [],
   "source": []
  }
 ],
 "metadata": {
  "kernelspec": {
   "display_name": "Python 3",
   "language": "python",
   "name": "python3"
  },
  "language_info": {
   "codemirror_mode": {
    "name": "ipython",
    "version": 3
   },
   "file_extension": ".py",
   "mimetype": "text/x-python",
   "name": "python",
   "nbconvert_exporter": "python",
   "pygments_lexer": "ipython3",
   "version": "3.7.6"
  }
 },
 "nbformat": 4,
 "nbformat_minor": 4
}
