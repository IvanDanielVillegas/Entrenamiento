{
 "cells": [
  {
   "cell_type": "code",
   "execution_count": 1,
   "metadata": {},
   "outputs": [
    {
     "name": "stderr",
     "output_type": "stream",
     "text": [
      "Using TensorFlow backend.\n"
     ]
    }
   ],
   "source": [
    "import pandas as pd\n",
    "import seaborn as sns\n",
    "import numpy as np\n",
    "import matplotlib.pyplot as plt\n",
    "\n",
    "import tensorflow as tf\n",
    "import tensorflow.keras as keras\n",
    "from tensorflow.keras import layers\n",
    "from keras.models import Model\n",
    "from keras.callbacks import ModelCheckpoint\n",
    "from keras.layers import Input, Dense\n",
    "from sklearn.model_selection import train_test_split\n",
    "from sklearn.metrics import confusion_matrix\n",
    "from sklearn import preprocessing\n",
    "from keras.models import model_from_json"
   ]
  },
  {
   "cell_type": "code",
   "execution_count": 2,
   "metadata": {},
   "outputs": [
    {
     "name": "stdout",
     "output_type": "stream",
     "text": [
      "Model: \"model_sing\"\n",
      "_________________________________________________________________\n",
      "Layer (type)                 Output Shape              Param #   \n",
      "=================================================================\n",
      "input_1 (InputLayer)         [(None, 427, 16)]         0         \n",
      "_________________________________________________________________\n",
      "conv1d (Conv1D)              (None, 178, 16)           64016     \n",
      "_________________________________________________________________\n",
      "max_pooling1d (MaxPooling1D) (None, 89, 16)            0         \n",
      "_________________________________________________________________\n",
      "conv1d_1 (Conv1D)            (None, 10, 16)            20496     \n",
      "_________________________________________________________________\n",
      "max_pooling1d_1 (MaxPooling1 (None, 5, 16)             0         \n",
      "_________________________________________________________________\n",
      "flatten (Flatten)            (None, 80)                0         \n",
      "_________________________________________________________________\n",
      "dense (Dense)                (None, 256)               20736     \n",
      "_________________________________________________________________\n",
      "dropout (Dropout)            (None, 256)               0         \n",
      "_________________________________________________________________\n",
      "dense_1 (Dense)              (None, 5)                 1285      \n",
      "=================================================================\n",
      "Total params: 106,533\n",
      "Trainable params: 106,533\n",
      "Non-trainable params: 0\n",
      "_________________________________________________________________\n"
     ]
    }
   ],
   "source": [
    "input_shape = (427,16)\n",
    "inputs = keras.layers.Input(input_shape)\n",
    "x = keras.layers.Conv1D(16, 250, activation='relu',input_shape=input_shape)(inputs)\n",
    "x = keras.layers.MaxPool1D(pool_size=2, strides = 2, padding = 'same')(x)\n",
    "x = keras.layers.Conv1D(16, 80, activation='relu',input_shape=input_shape)(x)\n",
    "x = keras.layers.MaxPool1D(pool_size=2, strides = 2, padding = 'same')(x)\n",
    "x = keras.layers.Flatten()(x)\n",
    "x = keras.layers.Dense(256,activation = 'relu')(x)\n",
    "x = keras.layers.Dropout(0.2)(x)\n",
    "outputs = keras.layers.Dense(units=5, activation= 'softmax')(x)\n",
    "\n",
    "model = keras.Model(inputs = inputs, outputs=outputs, name ='model_sing')\n",
    "\n",
    "model.compile(optimizer = 'adam' , loss = 'sparse_categorical_crossentropy' , metrics = ['accuracy'])\n",
    "\n",
    "model.summary()\n",
    "\n",
    "# load weights into new model\n",
    "\n",
    "model.load_weights('MejorPrueba_sin_Scaling.h5')\n",
    "#model.load_weights(\"pesos1hdf.hdf5\")"
   ]
  },
  {
   "cell_type": "code",
   "execution_count": null,
   "metadata": {},
   "outputs": [],
   "source": []
  },
  {
   "cell_type": "code",
   "execution_count": 3,
   "metadata": {},
   "outputs": [],
   "source": [
    "from glob import glob\n"
   ]
  },
  {
   "cell_type": "code",
   "execution_count": 22,
   "metadata": {},
   "outputs": [],
   "source": [
    "features=[]\n",
    "df = pd.read_csv(\"/home/ivandanielvillegas/work/Entrenamiento/Datos/Paciente_ID_cristian/Gesto_2/Datos_CSV_ULTRACORTEX/datos_10.csv\",encoding='ISO-8859-1', skiprows = 2,sep=';')\n",
    "features.append(df.iloc[90:517,0:16].values)"
   ]
  },
  {
   "cell_type": "code",
   "execution_count": 23,
   "metadata": {},
   "outputs": [
    {
     "name": "stdout",
     "output_type": "stream",
     "text": [
      "(427, 16)\n",
      "(1, 427, 16)\n"
     ]
    }
   ],
   "source": [
    "print(features[0].shape)\n",
    "features= np.expand_dims(features[0],0)\n",
    "print(features.shape)"
   ]
  },
  {
   "cell_type": "code",
   "execution_count": 24,
   "metadata": {},
   "outputs": [
    {
     "name": "stdout",
     "output_type": "stream",
     "text": [
      "[1]\n"
     ]
    }
   ],
   "source": [
    "class_pred = model.predict(features, batch_size=32)\n",
    "class_pred = np.argmax(class_pred, axis=1)\n",
    "print(class_pred)"
   ]
  },
  {
   "cell_type": "code",
   "execution_count": null,
   "metadata": {},
   "outputs": [],
   "source": []
  },
  {
   "cell_type": "code",
   "execution_count": null,
   "metadata": {},
   "outputs": [],
   "source": []
  }
 ],
 "metadata": {
  "kernelspec": {
   "display_name": "Python 3",
   "language": "python",
   "name": "python3"
  },
  "language_info": {
   "codemirror_mode": {
    "name": "ipython",
    "version": 3
   },
   "file_extension": ".py",
   "mimetype": "text/x-python",
   "name": "python",
   "nbconvert_exporter": "python",
   "pygments_lexer": "ipython3",
   "version": "3.7.6"
  }
 },
 "nbformat": 4,
 "nbformat_minor": 4
}
